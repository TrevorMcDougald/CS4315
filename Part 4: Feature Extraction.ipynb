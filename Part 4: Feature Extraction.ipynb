{
  "cells": [
    {
      "cell_type": "markdown",
      "source": "###### Package Imports",
      "metadata": {
        "pycharm": {
          "metadata": false
        }
      }
    },
    {
      "cell_type": "code",
      "execution_count": 3,
      "outputs": [],
      "source": "#  NumPy and Pandas imports\nimport numpy as np\nimport pandas as pd\nfrom pandas import Series, DataFrame\n\n#  Reading time series\nfrom pandas_datareader import data\n\n#  Technical Analysis\nimport pandas_ta as ta\n\n#  Time stamps\nimport datetime as datetime\n\n#  Visualization (sns is a visualization library based on matplotlib)\nimport matplotlib.pyplot as plt\nimport seaborn as sns\nsns.set_style(\u0027darkgrid\u0027)\n%matplotlib inline\n",
      "metadata": {
        "pycharm": {
          "metadata": false,
          "name": "#%%\n",
          "is_executing": false
        }
      }
    },
    {
      "cell_type": "code",
      "execution_count": null,
      "outputs": [],
      "source": "#  Start and End Date\nstart \u003d datetime.date(2017, 4, 10)\nend \u003d datetime.date(2019, 4, 10)\n\n#  Assign a database with historical stock quotes from Yahoo! Finance to CSCO\n#  Cisco Systems, Inc.\nCSCO \u003d data.get_data_yahoo(\u0027CSCO\u0027, start, end)",
      "metadata": {
        "pycharm": {
          "metadata": false,
          "name": "#%%\n"
        }
      }
    },
    {
      "cell_type": "code",
      "execution_count": null,
      "outputs": [],
      "source": "CSCO.tail(1)",
      "metadata": {
        "pycharm": {
          "metadata": false,
          "name": "#%%\n"
        }
      }
    },
    {
      "cell_type": "code",
      "execution_count": null,
      "outputs": [],
      "source": "CSCO_processed \u003d CSCO.ewm(alpha \u003d .130).mean()\n# CSCO_processed[\u0027Date\u0027] \u003d CSCO_processed.index\n# CSCO_processed.set_index(\u0027Date\u0027)\nCSCO_processed.tail(1)",
      "metadata": {
        "pycharm": {
          "metadata": false,
          "name": "#%%\n"
        }
      }
    },
    {
      "cell_type": "markdown",
      "source": "# Feature Extraction\n---------\nPossibly use pyti, finta?\n\n### Momentum Indicators\nMomentum is the measurement of the speed or velocity of price changes. It measures the rate of the rise\nor fall in stock\u0027s price or volume. It is the rate of change on price or volume movements for\na particular asset. \n\nRelative Strength Index\nStochastic Oscillator\nWilliams %R\nMoving Average Convergence Divergence\nPrice Rate of Change\nOn Balance Volume\n\n## Prediction Indicator (to be class label attribute)",
      "metadata": {
        "pycharm": {
          "metadata": false
        }
      }
    },
    {
      "cell_type": "code",
      "execution_count": null,
      "outputs": [],
      "source": "CSCO_Features \u003d CSCO_processed.copy()",
      "metadata": {
        "pycharm": {
          "metadata": false,
          "name": "#%%\n"
        }
      }
    },
    {
      "cell_type": "code",
      "execution_count": null,
      "outputs": [],
      "source": "#  1 is True (return positive), 0 is False (return negative)\nCSCO_Features[\u0027Return\u0027] \u003d CSCO_Features[\u0027Close\u0027].pct_change(1).shift(-1)\nCSCO_Features[\u0027Target_Return\u0027] \u003d np.where(CSCO_Features[\u0027Return\u0027] \u003e 0, 1, 0)",
      "metadata": {
        "pycharm": {
          "metadata": false,
          "name": "#%%\n"
        }
      }
    },
    {
      "cell_type": "code",
      "execution_count": null,
      "outputs": [],
      "source": "CSCO_Features.drop(labels\u003d[\u0027High\u0027, \u0027Low\u0027, \u0027Open\u0027, \u0027Close\u0027, \u0027Volume\u0027, \u0027Adj Close\u0027, \u0027Return\u0027], \n                   axis\u003d1, inplace\u003dTrue)",
      "metadata": {
        "pycharm": {
          "metadata": false,
          "name": "#%%\n"
        }
      }
    },
    {
      "cell_type": "markdown",
      "source": "## Relative Strength Index (RSI)\nType of momentum indicator\n\nThe RSI is a calculated ratio of the recent upward price movements to the absolute price movement.\nThe RSI ranges from 0 to 100. It\u0027s interpreted as an overbought indicator \nwhen the value is over 70, and an oversold indicator when the value is below 30.\n\nThis will give our categorical attribute three values?  \n\nRSI(Series, Period)\nThe period is the number of observations the indicator will go back to. The default\nthat most traders use is 14\n\n",
      "metadata": {
        "pycharm": {
          "metadata": false
        }
      }
    },
    {
      "cell_type": "code",
      "execution_count": null,
      "outputs": [],
      "source": "CSCO_Features[\u0027RSI\u0027] \u003d CSCO_processed.ta.rsi(close\u003d\u0027Close\u0027) \nCSCO_Features[\u0027RSI\u0027].tail()\n",
      "metadata": {
        "pycharm": {
          "metadata": false,
          "name": "#%%\n"
        }
      }
    },
    {
      "cell_type": "code",
      "execution_count": null,
      "outputs": [],
      "source": "sns.set(rc\u003d{\"lines.linewidth\": 0.9})\nfigsize_2 \u003d (16, 8)\nfigure_2, ax_2 \u003d plt.subplots(figsize\u003dfigsize_2)\npalette_2 \u003d sns.color_palette(\u0027Blues\u0027, n_colors\u003d1, desat\u003d.9)\nax_2.set_title(\u0027Relative Strength Index\u0027)\n\nRSI_line \u003d sns.lineplot(x\u003dCSCO_Features.index, y\u003dCSCO_Features[\u0027RSI\u0027], legend\u003d\u0027full\u0027, \n                        palette\u003d[\u0027b\u0027],\n                        lw\u003d3,\n                        label\u003d\u0027RSI\u0027)\nRSI_line.hlines(70, start, end, linestyles\u003d\u0027-\u0027, colors\u003d\u0027r\u0027, label\u003d\u0027overbought\u0027)\nRSI_line.hlines(30, start, end, linestyles\u003d\u0027-\u0027, colors\u003d\u0027g\u0027, label\u003d\u0027oversold\u0027)\nRSI_line.hlines(30, start, end, linestyles\u003d\u0027-\u0027, colors\u003d\u0027b\u0027, linewidth\u003d0)\nRSI_line.fill_between(CSCO_Features.index, CSCO_Features[\u0027RSI\u0027], 70, where\u003dCSCO_Features[\u0027RSI\u0027]\u003e70,\n                      interpolate\u003dTrue,\n                      alpha\u003d0.6,\n                      facecolor\u003d\u0027r\u0027,\n                      label\u003d\u0027overbought\u0027)\nRSI_line.fill_between(CSCO_Features.index, CSCO_Features[\u0027RSI\u0027]\u003c70, CSCO_Features[\u0027RSI\u0027]\u003e30,\n                      alpha\u003d.6,\n                      facecolor\u003d\u0027b\u0027,\n                      linewidth\u003d0,\n                      label\u003d\u0027unidentified\u0027)\nRSI_line.fill_between(CSCO_Features.index, CSCO_Features[\u0027RSI\u0027], 30, where\u003dCSCO_Features[\u0027RSI\u0027]\u003c30,\n                      interpolate\u003dTrue,\n                      alpha\u003d0.6,\n                      facecolor\u003d\u0027g\u0027,\n                      linewidth\u003d0,\n                      label\u003d\u0027oversold\u0027)\n",
      "metadata": {
        "pycharm": {
          "metadata": false,
          "name": "#%%\n"
        }
      }
    },
    {
      "cell_type": "code",
      "execution_count": null,
      "outputs": [],
      "source": "# CSCO_classes \u003d CSCO_processed.copy()\n# CSCO_classes.drop(labels\u003d[\u0027High\u0027, \u0027Low\u0027, \u0027Open\u0027, \u0027Close\u0027, \u0027Volume\u0027, \u0027Adj Close\u0027], axis\u003d1, inplace\u003dTrue)\n# random\u003d2\n",
      "metadata": {
        "pycharm": {
          "metadata": false,
          "name": "#%%\n"
        }
      }
    },
    {
      "cell_type": "markdown",
      "source": "Turn RSI into categorical data",
      "metadata": {
        "pycharm": {
          "metadata": false
        }
      }
    },
    {
      "cell_type": "code",
      "execution_count": null,
      "outputs": [],
      "source": "# def rsi_categorical(x):\n#     if 0 \u003c x \u003c\u003d 30:\n#         return \u0027oversold\u0027\n#     elif 30 \u003c x \u003c 70:\n#         return \u0027unknown\u0027\n#     return \u0027overbought\u0027",
      "metadata": {
        "pycharm": {
          "metadata": false,
          "name": "#%%\n"
        }
      }
    },
    {
      "cell_type": "code",
      "execution_count": null,
      "outputs": [],
      "source": "# CSCO_classes[\u0027RSI\u0027] \u003d CSCO_classes[\u0027RSI\u0027].apply(rsi_categorical)",
      "metadata": {
        "pycharm": {
          "metadata": false,
          "name": "#%%\n"
        }
      }
    },
    {
      "cell_type": "code",
      "execution_count": null,
      "outputs": [],
      "source": "# CSCO_classes[\u0027RSI\u0027].value_counts()",
      "metadata": {
        "pycharm": {
          "metadata": false,
          "name": "#%%\n"
        }
      }
    },
    {
      "cell_type": "markdown",
      "source": "",
      "metadata": {
        "pycharm": {
          "metadata": false
        }
      }
    },
    {
      "cell_type": "markdown",
      "source": "## Williams Percentage Range (Williams %R)\n**overbought:** a security that analyst or traders believe is trading above intrinsic value\n**oversold:** condition where an asset has traded lower in price and has the potential for\na price bounce. \n\nOverbought means the price is near the highs of its recent range, oversold means the price is \nat the lower end of its recent range. \n\nA type of momentum indicator which measures overbought and oversold levels. It moves\nbetween 0 and -100. A reading above -20 is overbought. A reading below -80 is oversold.\n\nCompares a stock\u0027s closing price to the high-low range over a specified period, usually 14 days\n \n       Highest - Close\n    \u003d ------------------ * -100\n      Highest - Lowest\n\nHighest is the highest price in look back period, \nClose is the most recent closing price, \nLowest is the lowest price in the look back period\n",
      "metadata": {
        "pycharm": {
          "metadata": false
        }
      }
    },
    {
      "cell_type": "code",
      "execution_count": null,
      "outputs": [],
      "source": "CSCO_Features[\u0027W %R\u0027] \u003d CSCO_processed.ta.willr(close\u003d\u0027Close\u0027, high\u003d\u0027High\u0027, low\u003d\u0027Low\u0027)\nCSCO_Features[\u0027W %R\u0027].tail()",
      "metadata": {
        "pycharm": {
          "metadata": false,
          "name": "#%%\n"
        }
      }
    },
    {
      "cell_type": "code",
      "execution_count": null,
      "outputs": [],
      "source": "sns.set(rc\u003d{\"lines.linewidth\": 0.9})\nfigsize_3 \u003d (16, 8)\nfigure_3, ax_3 \u003d plt.subplots(figsize\u003dfigsize_3)\npalette_3 \u003d sns.color_palette(\u0027Blues\u0027, n_colors\u003d1, desat\u003d.9)\nax_3.set_title(\u0027Relative Strength Index\u0027)\n\nWPR_line \u003d sns.lineplot(x\u003dCSCO_Features.index, y\u003dCSCO_Features[\u0027W %R\u0027], legend\u003d\u0027full\u0027, \n                        palette\u003d[\u0027b\u0027],\n                        lw\u003d3,\n                        label\u003d\u0027W %R\u0027)\nWPR_line.hlines(-20, start, end, linestyles\u003d\u0027-\u0027, colors\u003d\u0027r\u0027, label\u003d\u0027overbought\u0027)\nWPR_line.hlines(-80, start, end, linestyles\u003d\u0027-\u0027, colors\u003d\u0027g\u0027, label\u003d\u0027oversold\u0027)\n",
      "metadata": {
        "pycharm": {
          "metadata": false,
          "name": "#%%\n"
        }
      }
    },
    {
      "cell_type": "code",
      "execution_count": null,
      "outputs": [],
      "source": "# CSCO_classes[\u0027W %R\u0027] \u003d CSCO_Features[\u0027W %R\u0027].copy()",
      "metadata": {
        "pycharm": {
          "metadata": false,
          "name": "#%%\n"
        }
      }
    },
    {
      "cell_type": "markdown",
      "source": "Turn Williams %R into categorical data",
      "metadata": {
        "pycharm": {
          "metadata": false
        }
      }
    },
    {
      "cell_type": "code",
      "execution_count": null,
      "outputs": [],
      "source": "# def wpr_categorical(x):\n#     if -20 \u003c\u003d x \u003c 0:\n#         return \u0027overbought\u0027\n#     elif -80 \u003c x \u003c -20:\n#         return \u0027unknown\u0027\n#     return \u0027oversold\u0027",
      "metadata": {
        "pycharm": {
          "metadata": false,
          "name": "#%%\n"
        }
      }
    },
    {
      "cell_type": "code",
      "execution_count": null,
      "outputs": [],
      "source": "# CSCO_classes[\u0027W %R\u0027] \u003d CSCO_classes[\u0027W %R\u0027].apply(wpr_categorical)",
      "metadata": {
        "pycharm": {
          "metadata": false,
          "name": "#%%\n"
        }
      }
    },
    {
      "cell_type": "code",
      "execution_count": null,
      "outputs": [],
      "source": "# CSCO_classes[\u0027W %R\u0027].value_counts()",
      "metadata": {
        "pycharm": {
          "metadata": false,
          "name": "#%%\n"
        }
      }
    },
    {
      "cell_type": "markdown",
      "source": "## Stochastic Oscillator (%K and %D)\nThe term stochastic refers to the point of a current price in relation to its price\nrange over a period of time.\n\nThe stochastic oscillator is a momentum indicator that uses support and resistance levels.\nVery similar to the Williams %R\n\nA support level is a level where the price finds support as it falls. The price\nis more likely to go up from this level than continue down.\n\nA resistance level is the opposite of a support level. The price finds resistance as it rises. \nThe price is more likely to drop from this level than continue rising. \n\n        Close - Lowest\n        ---------------- * 100\n        Highest - Lowest\n\nHighest is the highest value over a range, Lowest is the lowest value over a range.\n\nA rule in finance is that momentum changes before price changes. This category will \ndetermine if momentum has changed before price has changed. \n\nWhen the %K is lower than %D and %K is above 80, overbought\nWhen the %K is above %D and %K is under 20, oversold",
      "metadata": {
        "pycharm": {
          "metadata": false
        }
      }
    },
    {
      "cell_type": "code",
      "execution_count": null,
      "outputs": [],
      "source": "CSCO_Features[[\u0027STOCHF_14\u0027, \u0027STOCHF_3\u0027, \u0027STOCH_5\u0027, \u0027STOCH_3\u0027]] \u003d \\\n    CSCO_processed.ta.stoch(close\u003d\u0027Close\u0027, high\u003d\u0027High\u0027, low\u003d\u0027Low\u0027)",
      "metadata": {
        "pycharm": {
          "metadata": false,
          "name": "#%%\n"
        }
      }
    },
    {
      "cell_type": "code",
      "execution_count": null,
      "outputs": [],
      "source": "CSCO_Features.rename(columns\u003d{\u0027STOCHF_14\u0027: \u0027%K\u0027, \n                              \u0027STOCHF_3\u0027: \u0027%D\u0027, \n                              \u0027STOCH_5\u0027: \u0027Slow %K\u0027,\n                              \u0027STOCH_3\u0027: \u0027Slow %D\u0027}, inplace\u003dTrue)",
      "metadata": {
        "pycharm": {
          "metadata": false,
          "name": "#%%\n"
        }
      }
    },
    {
      "cell_type": "code",
      "execution_count": null,
      "outputs": [],
      "source": "CSCO_Features.loc[:, [\u0027%K\u0027, \u0027%D\u0027, \u0027Slow %K\u0027, \u0027Slow %D\u0027]].tail()",
      "metadata": {
        "pycharm": {
          "metadata": false,
          "name": "#%%\n"
        }
      }
    },
    {
      "cell_type": "code",
      "execution_count": null,
      "outputs": [],
      "source": "CSCO_Features[\u0027%K\u0027].plot(legend\u003dTrue, \n                                 figsize\u003d(15, 7),\n                                 title\u003d\u0027%K and %D\u0027,\n                                 label\u003d\u0027%K\u0027)\nCSCO_Features[\u0027%D\u0027].plot(legend\u003dTrue,\n                                label\u003d\u0027%D\u0027)",
      "metadata": {
        "pycharm": {
          "metadata": false,
          "name": "#%%\n"
        }
      }
    },
    {
      "cell_type": "markdown",
      "source": "## Moving Average Convergence Divergence (MACD)\nMACD identifies strength, direction, momentum, and duration of a security\u0027s overall trend.\nThe MACD indicator (oscillator) is three time series created from the closing price.\nThese are the proper MACD series, the moving average of the MACD series, and the difference\nbetween the MACD series and MA(MACD). \n\nThe MACD time series is: (12-Day Estimated Moving Average - 26-Day Estimated Moving Average) \u003cbr\u003e\nThe Signal Line time series is: (9-Day Estimated Moving Average of MACD) \u003cbr\u003e\nThe MACD Histogram time series is: (MACD time series - Signal line time series) \u003cbr\u003e \n\nA fast moving average responds more quickly than a slow moving average to a recent change in stock\u0027s\nprice. The MACD compares moving averages of different periods to indicate changes of a stock\u0027s trend",
      "metadata": {
        "pycharm": {
          "metadata": false
        }
      }
    },
    {
      "cell_type": "code",
      "execution_count": null,
      "outputs": [],
      "source": "CSCO_Features[[\u0027MACD_12_26_9\u0027, \u0027MACDH_12_26_9\u0027, \u0027MACDS_12_26_9\u0027]] \u003d CSCO_processed.ta.macd(close\u003d\u0027Close\u0027)",
      "metadata": {
        "pycharm": {
          "metadata": false,
          "name": "#%%\n"
        }
      }
    },
    {
      "cell_type": "code",
      "execution_count": null,
      "outputs": [],
      "source": "CSCO_Features.rename(columns\u003d{\u0027MACD_12_26_9\u0027: \u0027MACD\u0027, \n                              \u0027MACDH_12_26_9\u0027: \u0027MACD Difference\u0027, \n                              \u0027MACDS_12_26_9\u0027: \u0027MACD Signal\u0027}, inplace\u003dTrue)",
      "metadata": {
        "pycharm": {
          "metadata": false,
          "name": "#%%\n"
        }
      }
    },
    {
      "cell_type": "code",
      "execution_count": null,
      "outputs": [],
      "source": "CSCO_Features.loc[:, [\u0027MACD\u0027, \u0027MACD Difference\u0027, \u0027MACD Signal\u0027]].tail()",
      "metadata": {
        "pycharm": {
          "metadata": false,
          "name": "#%%\n"
        }
      }
    },
    {
      "cell_type": "code",
      "execution_count": null,
      "outputs": [],
      "source": "figsize_4 \u003d (17, 6)\nfigure_4, ax_4 \u003d plt.subplots(figsize\u003dfigsize_4)\nCSCO_Features[\u0027MACD\u0027].plot(legend\u003dTrue, \n                                 title\u003d\u0027Moving Average Convergence Divergence\u0027,\n                                 label\u003d\u0027MACD\u0027)\nCSCO_Features[\u0027MACD Signal\u0027].plot(legend\u003dTrue,\n                                label\u003d\u0027MACD Signal\u0027)\nCSCO_Features[\u0027MACD Difference\u0027].plot(legend\u003dTrue,\n                                      label\u003d\u0027MACD Difference\u0027,\n                                      linestyle\u003d\u0027-\u0027).hlines(0, start, end, linewidth\u003d1)",
      "metadata": {
        "pycharm": {
          "metadata": false,
          "name": "#%%\n"
        }
      }
    },
    {
      "cell_type": "markdown",
      "source": "## Price Rate of Change (PROC)\nCalculates the percent change in price between periods. When prices are rising PROC levels remain\nabove the zero line, when they are falling PROC levels are below the zero line.\n\n        Close - Close n days ago\n        ------------------------ \n            Close n days ago\n",
      "metadata": {
        "pycharm": {
          "metadata": false
        }
      }
    },
    {
      "cell_type": "code",
      "execution_count": null,
      "outputs": [],
      "source": "CSCO_Features[\u0027PROC 7-Day\u0027] \u003d CSCO_processed.ta.roc(close\u003d\u0027Close\u0027, length\u003d7)\nCSCO_Features[\u0027PROC 14-Day\u0027] \u003d CSCO_processed.ta.roc(close\u003d\u0027Close\u0027, length\u003d14)",
      "metadata": {
        "pycharm": {
          "metadata": false,
          "name": "#%%\n"
        }
      }
    },
    {
      "cell_type": "code",
      "execution_count": null,
      "outputs": [],
      "source": "CSCO_Features.loc[:, [\u0027PROC 1-Day\u0027, \u0027PROC 7-Day\u0027, \u0027PROC 14-Day\u0027]].tail()",
      "metadata": {
        "pycharm": {
          "metadata": false,
          "name": "#%%\n"
        }
      }
    },
    {
      "cell_type": "code",
      "execution_count": null,
      "outputs": [],
      "source": "figure_5, ax_5 \u003d plt.subplots(nrows\u003d3, ncols\u003d1, figsize\u003d(16, 14))\n#  Plot the rolling variance for original closing prices\nCSCO_Features[\u0027PROC 1-Day\u0027].plot(ax\u003dax_5[0],\n                                 legend\u003dTrue,\n                                 title\u003d\u0027Price Rate of Change Over Different Time Periods\u0027,\n                                 color\u003d\u0027blue\u0027)\n#  Plot the rolling variance for log transformed closing prices\nCSCO_Features[\u0027PROC 7-Day\u0027].plot(ax\u003dax_5[1],\n                                 legend\u003dTrue,\n                                 color\u003d\u0027purple\u0027)\nCSCO_Features[\u0027PROC 14-Day\u0027].plot(ax\u003dax_5[2],\n                                 legend\u003dTrue,\n                                 color\u003d\u0027red\u0027)",
      "metadata": {
        "pycharm": {
          "metadata": false,
          "name": "#%%\n"
        }
      }
    },
    {
      "cell_type": "markdown",
      "source": "## On Balance Volume (OBV)\nOn Balance Volume measures buying and selling pressure. When the volume on up days outpaces the volume \non down days, the OBV rises. When down days outpace volume on up days, OBV falls. \n",
      "metadata": {
        "pycharm": {
          "metadata": false
        }
      }
    },
    {
      "cell_type": "code",
      "execution_count": null,
      "outputs": [],
      "source": "CSCO_Features[\u0027OBV\u0027] \u003d CSCO_processed.ta.roc(close\u003d\u0027Close\u0027, volume\u003d\u0027Volume\u0027)",
      "metadata": {
        "pycharm": {
          "metadata": false,
          "name": "#%%\n"
        }
      }
    },
    {
      "cell_type": "code",
      "execution_count": null,
      "outputs": [],
      "source": "CSCO_Features[\u0027OBV\u0027].tail()",
      "metadata": {
        "pycharm": {
          "metadata": false,
          "name": "#%%\n"
        }
      }
    },
    {
      "cell_type": "code",
      "execution_count": null,
      "outputs": [],
      "source": "sns.set(rc\u003d{\"lines.linewidth\": 0.9})\nfigsize_6 \u003d (16, 8)\nfigure_6, ax_6 \u003d plt.subplots(figsize\u003dfigsize_6)\npalette_6 \u003d sns.color_palette(\u0027Blues\u0027, n_colors\u003d1, desat\u003d.9)\nax_6.set_title(\u0027On Balance Volume\u0027)\n\nOBV_line \u003d sns.lineplot(x\u003dCSCO_Features.index, y\u003dCSCO_Features[\u0027OBV\u0027], legend\u003d\u0027full\u0027, \n                        palette\u003d[\u0027b\u0027],\n                        lw\u003d2,\n                        label\u003d\u0027OBV\u0027)",
      "metadata": {
        "pycharm": {
          "metadata": false,
          "name": "#%%\n"
        }
      }
    },
    {
      "cell_type": "code",
      "execution_count": null,
      "outputs": [],
      "source": "#  All features\nCSCO_Features.tail(1)",
      "metadata": {
        "pycharm": {
          "metadata": false,
          "name": "#%%\n"
        }
      }
    },
    {
      "cell_type": "code",
      "execution_count": null,
      "outputs": [],
      "source": "#  Check Something\nCSCO_Features.loc[:, [\u0027Target_Return\u0027, \u0027PROC 1-Day\u0027]].head(20)",
      "metadata": {
        "pycharm": {
          "metadata": false,
          "name": "#%% \n"
        }
      }
    },
    {
      "cell_type": "code",
      "execution_count": null,
      "outputs": [],
      "source": "CSCO_Features.columns",
      "metadata": {
        "pycharm": {
          "metadata": false,
          "name": "#%%\n"
        }
      }
    }
  ],
  "metadata": {
    "language_info": {
      "codemirror_mode": {
        "name": "ipython",
        "version": 2
      },
      "file_extension": ".py",
      "mimetype": "text/x-python",
      "name": "python",
      "nbconvert_exporter": "python",
      "pygments_lexer": "ipython2",
      "version": "2.7.6"
    },
    "kernelspec": {
      "name": "python3",
      "language": "python",
      "display_name": "Python 3"
    },
    "stem_cell": {
      "cell_type": "raw",
      "source": "",
      "metadata": {
        "pycharm": {
          "metadata": false
        }
      }
    }
  },
  "nbformat": 4,
  "nbformat_minor": 0
}