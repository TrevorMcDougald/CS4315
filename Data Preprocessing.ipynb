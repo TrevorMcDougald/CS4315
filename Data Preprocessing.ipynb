{
  "cells": [
    {
      "cell_type": "code",
      "execution_count": null,
      "metadata": {
        "collapsed": true,
        "pycharm": {}
      },
      "outputs": [],
      "source": "#  NumPy and Pandas imports\nimport numpy as np\nimport pandas as pd\nfrom pandas import Series, DataFrame\n\n#  Reading time series\nfrom pandas_datareader import data\n\n#  Time stamps\nimport datetime as datetime\n\n#  Visualization (sns is a visualization library based on matplotlib)\nimport matplotlib.pyplot as plt\nimport seaborn as sns\nsns.set_style(\u0027darkgrid\u0027)\n%matplotlib inline\n"
    },
    {
      "cell_type": "code",
      "execution_count": null,
      "outputs": [],
      "source": "#  Stock tickers to retrieve historical index data\n# ticker_index_data \u003d [\u0027AMD\u0027, \u0027CSCO\u0027, \u0027INTC\u0027, \u0027MU\u0027, \u0027ORCL\u0027, \u0027QCOM\u0027]\n# \nstart \u003d \u00272017-10-10\u0027\nend \u003d \u00272019-04-10\u0027\n# #  Assign a database with historical stock quotes from Yahoo! Finance to each ticker\n# for ticker in ticker_index_data:\n#     globals()[ticker] \u003d data.get_data_yahoo(ticker, start, end)\n#                                                     #  Changed start to 1.5 years\n\n#  Cisco Systems, Inc.\nCSCO \u003d data.get_data_yahoo(\u0027CSCO\u0027, start, end)\n\n\n\n\n",
      "metadata": {
        "pycharm": {
          "metadata": false,
          "name": "#%%\n"
        }
      }
    }
  ],
  "metadata": {
    "language_info": {
      "codemirror_mode": {
        "name": "ipython",
        "version": 2
      },
      "file_extension": ".py",
      "mimetype": "text/x-python",
      "name": "python",
      "nbconvert_exporter": "python",
      "pygments_lexer": "ipython2",
      "version": "2.7.6"
    },
    "kernelspec": {
      "name": "python3",
      "language": "python",
      "display_name": "Python 3"
    }
  },
  "nbformat": 4,
  "nbformat_minor": 0
}