{
  "cells": [
    {
      "cell_type": "markdown",
      "source": "# Stock Market Time-Series Analysis and Forecasting\n\n#### Introduction to the Stock Market\nThe New York Stock Exchange (NYSE), the American stock exchange, \nsanctions the buying and trading of shares for publicly \nregistered companies. The public stock exchange allows businesses to\nraise financial capital by selling shares of ownership. The value of a share to \ninvestors is measured by a stock price. There are many variables and uncertainties which\ncan influence a stock\u0027s price away from market equilibrium. Overly optimistic or pessimistic \nconditions can drive stock value excessively high or low. The erratic nature of \nstock behavior creates a market risk. Investors look for stocks with \nvalue expected to rise while avoiding stocks with value expected to decrease.\nKnowledge of stock price movement is essential for minimizing market risk.    \n\n#### Purpose\nThe goal of this project is to explore the knowledge discovery process from\nthe data of several stocks in the technology sector (Table). The information (historical \nstock quotes) is extracted live from the Yahoo! Finance web service. Collected information is\nformatted as a financial time series. This mathematical model is ideal for\nfinding statistical descriptions and data visualizations of asset evaluation over time. After \ninteresting knowledge is discovered from the data (relevance analysis)\n, a classification and regression processes will be used for predictive analysis.   \n\n| Technology Stock | Ticker |\n|---------------|--------------|\n| Adv Micro Devices | (**AMD**) | \n| Cisco Systems Inc | (**CSCO**) | \n| Intel Corp | (**INTC**) | \n| Micron Technology | (**MU**) | \n| Nvidia Corp | (**NVDA**) |\n| Oracle Corp | (**ORCL**) | \n| Qualcomm Inc | (**QCOM**) | \n",
      "metadata": {
        "pycharm": {
          "metadata": false
        }
      }
    },
    {
      "cell_type": "markdown",
      "source": "## Time Series Analysis\n\nA **Time Series** is defined as a sequence of *n* random variables at integer time \npoints t\u003csub\u003e1\u003c/sub\u003e, t\u003csub\u003e2\u003c/sub\u003e,..., t\u003csub\u003en\u003c/sub\u003e, for a positive integer *n*. \nThe random variable *t\u003csub\u003en\u003c/sub\u003e* is the value of the series at the n\u003csup\u003eth\u003c/sup\u003e time point. \nTime series have a predictive inference based on the underlying stochastic property. \n\u003e In probability or related fields, a **Stochastic Process** refers to a collection of \nrandom variables indexed by n; {x\u003csub\u003en\u003c/sub\u003e} (*i.e a process representing numerical \nvalues of some system randomly changing over time*).  \n\nFinancial data are a fixed frequency time series, meaning the data points occur at regular intervals. \nFor historical stock quotes these intervals are daily.   \n",
      "metadata": {
        "pycharm": {
          "metadata": false
        }
      }
    },
    {
      "cell_type": "markdown",
      "source": "##### Time Series Package Imports\n",
      "metadata": {
        "pycharm": {
          "metadata": false,
          "name": "#%% md\n"
        }
      }
    },
    {
      "cell_type": "code",
      "execution_count": 4,
      "outputs": [],
      "source": "#  NumPy and Pandas imports\nimport numpy as np\nimport pandas as pd\nfrom pandas import Series, DataFrame\n\n#  Reading time series\nfrom pandas_datareader import data\n\n#  Time stamps\nimport datetime as datetime\n\n#  Visualization (sns is a visualization library based on matplotlib)\nimport matplotlib.pyplot as plt\nimport seaborn as sns\n%matplotlib inline\n",
      "metadata": {
        "pycharm": {
          "metadata": false,
          "name": "#%%\n",
          "is_executing": false
        }
      }
    },
    {
      "cell_type": "markdown",
      "source": "##### Retrieving Stock Price Movement\nThe following uses the pandas_datareader package to get a Yahoo! Finance\nhistorical price database of each stock\n\nThe historical price database is made up of tuples with 6 associated class labels.\nEach tuple is represented as a 6-dimensional attribute vector (High, Low, Open, Close, Volume, Adj Close).\n ",
      "metadata": {
        "pycharm": {
          "metadata": false
        }
      }
    },
    {
      "cell_type": "code",
      "execution_count": 22,
      "outputs": [
        {
          "data": {
            "text/plain": "             High    Low   Open  Close    Volume  Adj Close\nDate                                                       \n2017-04-10  13.59  13.04  13.52  13.10  47178000      13.10\n2017-04-11  13.29  12.71  13.02  13.10  59916600      13.10\n2017-04-12  13.10  12.74  12.94  12.76  37385400      12.76\n2017-04-13  12.72  12.22  12.51  12.31  53442600      12.31\n2017-04-17  12.80  12.37  12.53  12.79  38188200      12.79",
            "text/html": "\u003cdiv\u003e\n\u003cstyle scoped\u003e\n    .dataframe tbody tr th:only-of-type {\n        vertical-align: middle;\n    }\n\n    .dataframe tbody tr th {\n        vertical-align: top;\n    }\n\n    .dataframe thead th {\n        text-align: right;\n    }\n\u003c/style\u003e\n\u003ctable border\u003d\"1\" class\u003d\"dataframe\"\u003e\n  \u003cthead\u003e\n    \u003ctr style\u003d\"text-align: right;\"\u003e\n      \u003cth\u003e\u003c/th\u003e\n      \u003cth\u003eHigh\u003c/th\u003e\n      \u003cth\u003eLow\u003c/th\u003e\n      \u003cth\u003eOpen\u003c/th\u003e\n      \u003cth\u003eClose\u003c/th\u003e\n      \u003cth\u003eVolume\u003c/th\u003e\n      \u003cth\u003eAdj Close\u003c/th\u003e\n    \u003c/tr\u003e\n    \u003ctr\u003e\n      \u003cth\u003eDate\u003c/th\u003e\n      \u003cth\u003e\u003c/th\u003e\n      \u003cth\u003e\u003c/th\u003e\n      \u003cth\u003e\u003c/th\u003e\n      \u003cth\u003e\u003c/th\u003e\n      \u003cth\u003e\u003c/th\u003e\n      \u003cth\u003e\u003c/th\u003e\n    \u003c/tr\u003e\n  \u003c/thead\u003e\n  \u003ctbody\u003e\n    \u003ctr\u003e\n      \u003cth\u003e2017-04-10\u003c/th\u003e\n      \u003ctd\u003e13.59\u003c/td\u003e\n      \u003ctd\u003e13.04\u003c/td\u003e\n      \u003ctd\u003e13.52\u003c/td\u003e\n      \u003ctd\u003e13.10\u003c/td\u003e\n      \u003ctd\u003e47178000\u003c/td\u003e\n      \u003ctd\u003e13.10\u003c/td\u003e\n    \u003c/tr\u003e\n    \u003ctr\u003e\n      \u003cth\u003e2017-04-11\u003c/th\u003e\n      \u003ctd\u003e13.29\u003c/td\u003e\n      \u003ctd\u003e12.71\u003c/td\u003e\n      \u003ctd\u003e13.02\u003c/td\u003e\n      \u003ctd\u003e13.10\u003c/td\u003e\n      \u003ctd\u003e59916600\u003c/td\u003e\n      \u003ctd\u003e13.10\u003c/td\u003e\n    \u003c/tr\u003e\n    \u003ctr\u003e\n      \u003cth\u003e2017-04-12\u003c/th\u003e\n      \u003ctd\u003e13.10\u003c/td\u003e\n      \u003ctd\u003e12.74\u003c/td\u003e\n      \u003ctd\u003e12.94\u003c/td\u003e\n      \u003ctd\u003e12.76\u003c/td\u003e\n      \u003ctd\u003e37385400\u003c/td\u003e\n      \u003ctd\u003e12.76\u003c/td\u003e\n    \u003c/tr\u003e\n    \u003ctr\u003e\n      \u003cth\u003e2017-04-13\u003c/th\u003e\n      \u003ctd\u003e12.72\u003c/td\u003e\n      \u003ctd\u003e12.22\u003c/td\u003e\n      \u003ctd\u003e12.51\u003c/td\u003e\n      \u003ctd\u003e12.31\u003c/td\u003e\n      \u003ctd\u003e53442600\u003c/td\u003e\n      \u003ctd\u003e12.31\u003c/td\u003e\n    \u003c/tr\u003e\n    \u003ctr\u003e\n      \u003cth\u003e2017-04-17\u003c/th\u003e\n      \u003ctd\u003e12.80\u003c/td\u003e\n      \u003ctd\u003e12.37\u003c/td\u003e\n      \u003ctd\u003e12.53\u003c/td\u003e\n      \u003ctd\u003e12.79\u003c/td\u003e\n      \u003ctd\u003e38188200\u003c/td\u003e\n      \u003ctd\u003e12.79\u003c/td\u003e\n    \u003c/tr\u003e\n  \u003c/tbody\u003e\n\u003c/table\u003e\n\u003c/div\u003e"
          },
          "metadata": {},
          "output_type": "execute_result",
          "execution_count": 22
        }
      ],
      "source": "#  Stocks grabbing index data from Yahoo! Finance\nstock_index_data \u003d [\u0027AMD\u0027, \u0027CSCO\u0027, \u0027INTC\u0027, \u0027MU\u0027, \u0027NVDA\u0027, \u0027ORCL\u0027, \u0027QCOM\u0027]\n\n\nfor stock in stock_index_data:\n    globals()[stock] \u003d data.get_data_yahoo(stock, \u00272017-04-10\u0027, \u00272019-04-10\u0027)\n\nAMD.head()\n",
      "metadata": {
        "pycharm": {
          "metadata": false,
          "name": "#%%\n",
          "is_executing": false
        }
      }
    }
  ],
  "metadata": {
    "language_info": {
      "codemirror_mode": {
        "name": "ipython",
        "version": 2
      },
      "file_extension": ".py",
      "mimetype": "text/x-python",
      "name": "python",
      "nbconvert_exporter": "python",
      "pygments_lexer": "ipython2",
      "version": "2.7.6"
    },
    "kernelspec": {
      "name": "python3",
      "language": "python",
      "display_name": "Python 3"
    },
    "stem_cell": {
      "cell_type": "raw",
      "source": "",
      "metadata": {
        "pycharm": {
          "metadata": false
        }
      }
    }
  },
  "nbformat": 4,
  "nbformat_minor": 0
}