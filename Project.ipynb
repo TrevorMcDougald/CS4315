{
  "cells": [
    {
      "cell_type": "code",
      "execution_count": 1,
      "outputs": [
        {
          "name": "stdout",
          "text": [
            "Youtube\n"
          ],
          "output_type": "stream"
        }
      ],
      "source": "print(\"Hello\")\n",
      "metadata": {
        "pycharm": {
          "metadata": false,
          "name": "#%%\n",
          "is_executing": false
        }
      }
    },
    {
      "cell_type": "markdown",
      "source": "# Stock Market Time-Series Analysis and Forecasting\n\n#### Introduction to the Stock Market\nThe New York Stock Exchange (NYSE), the American stock exchange, \nsanctions the buying and trading of shares for publicly \nregistered companies. The public stock exchange allows businesses to\nraise financial capital by selling shares of ownership. The value of a share to \ninvestors is measured by a stock price. There are many variables and uncertainties which\ncan influence a stock\u0027s price away from market equilibrium. Overly optimistic or pessimistic \nconditions can drive stock value excessively high or low. The volatile erratic nature of \nstock behavior creates market risk. Investors look for stocks with \nvalue that is expected to rise while avoiding stocks expected to decrease in value.\nKnowledge of stock price movement is essential for minimizing market risk.    \n\n#### Purpose\nThe goal of this project is to explore the knowledge discovery process from\nthe data of several stocks in the technology sector (Table). The information (historical \nstock quotes) is extracted live from the Yahoo! Finance web service. Collected information is\nformatted as a financial time series. This mathematical model is ideal for\nfinding statistical descriptions and data visualizations of asset evaluation over time. After \ninteresting knowledge is discovered from the data (relevance analysis)\n, a classification and regression processes will be used for predictive analysis.   \n\n| Technology Stock | Symbol |\n|---------------|--------------|\n| Adv Micro Devices | (**AMD**) | \n| Micron Technology | (**MU**) | \n| Cisco Systems Inc | (**CSCO**) | \n| Intel Corp | (**INTC**) | \n| Nvidia Corp | (**NVDA**) |\n| Oracle Corp | (**ORCL**) | \n| Qualcomm Inc | (**QCOM**) | \n",
      "metadata": {
        "pycharm": {
          "metadata": false
        }
      }
    },
    {
      "cell_type": "markdown",
      "source": "## Time Series Analysis\n",
      "metadata": {
        "pycharm": {
          "metadata": false
        }
      }
    }
  ],
  "metadata": {
    "language_info": {
      "codemirror_mode": {
        "name": "ipython",
        "version": 2
      },
      "file_extension": ".py",
      "mimetype": "text/x-python",
      "name": "python",
      "nbconvert_exporter": "python",
      "pygments_lexer": "ipython2",
      "version": "2.7.6"
    },
    "kernelspec": {
      "name": "python3",
      "language": "python",
      "display_name": "Python 3"
    },
    "stem_cell": {
      "cell_type": "raw",
      "source": "",
      "metadata": {
        "pycharm": {
          "metadata": false
        }
      }
    }
  },
  "nbformat": 4,
  "nbformat_minor": 0
}