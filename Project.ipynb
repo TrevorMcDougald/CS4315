{
  "cells": [
    {
      "cell_type": "markdown",
      "source": "# Stock Market Time-Series Analysis and Forecasting in Python\n------\n### Introduction to the Stock Market\nThe New York Stock Exchange (NYSE), the American stock exchange, \nsanctions the buying and trading of shares for publicly \nregistered companies. The public stock exchange allows businesses to\nraise financial capital by selling shares of ownership. The value of a share to \ninvestors is measured by a stock price. There are many variables and uncertainties which\ncan influence a stock\u0027s price away from market equilibrium. Overly optimistic or pessimistic \nconditions can drive stock value excessively high or low. The erratic nature of \nstock behavior creates a market risk. Investors look for stocks with \nvalue expected to rise while avoiding stocks with value expected to decrease.\nKnowledge of stock price movement is essential for minimizing market risk.    \n\n### Objective\nThe goal of this project is to explore the knowledge discovery from\nfinancial data (KDD) process for several stocks in the technology sector (listed in table). \nThe information (historical stock quotes) will be retrieved live from the Yahoo! Finance web service. \nThe Collected information is then formatted as a financial time series. \nThis mathematical model is ideal for finding statistical descriptions and data visualizations of \nasset evaluation over time. \n\n| Technology Stock | Ticker |\n|---------------|--------------|\n| Adv Micro Devices | (**AMD**) | \n| Cisco Systems Inc | (**CSCO**) | \n| Intel Corp | (**INTC**) | \n| Micron Technology | (**MU**) | \n| Nvidia Corp | (**NVDA**) |\n| Oracle Corp | (**ORCL**) | \n| Qualcomm Inc | (**QCOM**) | \n\nThe process of knowledge discovery from the financial data will be split into two parts:\n   \n**Part 1**: For the first part, interesting knowledge will be discovered using statistical methods. These will describe \nthe collection, analysis, interpretation, and presentation of the data. A *statistical model* is established\nmathematical functions describing the behavior of objects in terms of random variables and their associated\nprobability distributions. This Project is based on the previously mentioned statistical model \nknown as a time series. A central idea of the project will be understanding a financial time series using \n*statistical descriptions*. These will be used to identify the properties of the series and find \ndata values which are noise or outliers. This will merge with the last concept of Part 1, *relevance analysis*, \nwhich is the first step in the data mining functionality: Classification and Regression for Predictive Analysis. \nThis is described as attempting to identify attributes which are more relevant to the predictive process. \n\n**Part 2**: The second part of the knowledge discovery from data (KDD) process is based on \nthe *predictive analysis* concepts of the data mining functionality: Classification and Regression for \nPredictive Analysis. The predictive process is a type of *Supervised Learning* because the extracted \ndataset will serve as \"supervision\" for the learning process. Attributes from the preprocessed \ndata in Part 1 will make up the training set for the Classification learning phase. A classifier will \nbe constructed to predict a financial attribute.    \n",
      "metadata": {
        "pycharm": {
          "metadata": false
        }
      }
    },
    {
      "cell_type": "markdown",
      "source": "## (Part 1) Time Series Analysis\n---------------\n### Description\n------\n##### Definition:\n\nThe **Time Series** on a variable/attribute *a* is indicated as *a\u003csub\u003et\u003c/sub\u003e*, with the subscript t \nrepresenting time. The first and last observations available on attribute *a* are at t \u003d 1, and t \u003d T.\n\n\nThe set of times t \u003d {1, 2,.. ,T} is referred to as the *observation period*.\n\u003cpre\u003e    \n    Observations are typically measured in equally spaced intervals (frequency), (i.e minute, hour, \n    day, etc... for finance). \n\u003c/pre\u003e\n\nEssentially, a time series contains quantitative observations on one or more assessable characteristics of\nan entity, taken at multiple points in time. \n\nFor financial data, because the mean level cannot be regarded as a constant, the series is said to be *nonstationary*\n    \n### Analysis:\n\ntime series analysis applies different statistical methods to explore and model the internal \nstructures of the time series data. \n\nSeveral interesting internal structures are:  trend, seasonality, stationarity, autocorrelation, etc..\n\nThe internal structures require special formulation and techniques for their analysis \n\n##### Frequency\n\nFinancial data is a fixed frequency time series, meaning the \ndata points occur at regular intervals. This project will focus on financial time series with a daily \nfrequency. Higher frequencies in financial time series is referred to as \"high frequency\" or \"tick-by-tick\" data.\n",
      "metadata": {
        "pycharm": {
          "metadata": false
        }
      }
    },
    {
      "cell_type": "markdown",
      "source": "##### Time Series Package Imports\n",
      "metadata": {
        "pycharm": {
          "metadata": false,
          "name": "#%% md\n"
        }
      }
    },
    {
      "cell_type": "code",
      "execution_count": 9,
      "outputs": [],
      "source": "#  NumPy and Pandas imports\nimport numpy as np\nimport pandas as pd\nfrom pandas import Series, DataFrame\n\n#  Reading time series\nfrom pandas_datareader import data\n\n#  Time stamps\nimport datetime as datetime\n\n#  Visualization (sns is a visualization library based on matplotlib)\nimport matplotlib.pyplot as plt\nimport seaborn as sns\nsns.set_style(\u0027darkgrid\u0027)\n%matplotlib inline\n",
      "metadata": {
        "pycharm": {
          "metadata": false,
          "name": "#%%\n",
          "is_executing": false
        }
      }
    },
    {
      "cell_type": "markdown",
      "source": "### Getting Stock Price Quotes\n-----\nThe *historical stock quote* is made up of tuples with 6 associated class labels.\nTherefore, a tuple is represented as a 6-dimensional attribute vector (High, Low, Open, Close, Volume, Adj Close).\n\nAttribute Information:\n\n*   High: The highest share price for Date\n*   Low: The lowest share price for Date\n*   Open: The opening share price on Date\n*   Close: The closing share price on Date\n*   Volume: The number of shares traded on Date\n*   Adj Close: The closing price adjusted for stock splits and dividends\n\nThe pandas_datareader.Data module returns a *Panel* object. This can be represented as a\n3-Dimensional matrix. The first dimension are the date-time indexes, \nthe second dimension is made up of the six attributes Yahoo! Finance returns, \nthe third dimension are the ticker identifiers. \n",
      "metadata": {
        "pycharm": {
          "metadata": false
        }
      }
    },
    {
      "cell_type": "code",
      "execution_count": 27,
      "outputs": [],
      "source": "#  Stock tickers to retrieve historical index data\nticker_index_data \u003d [\u0027AMD\u0027, \u0027CSCO\u0027, \u0027INTC\u0027, \u0027MU\u0027, \u0027NVDA\u0027, \u0027ORCL\u0027, \u0027QCOM\u0027]\n\n#  Assign a database with historical stock quotes from Yahoo! Finance to each ticker\nfor ticker in ticker_index_data:\n    globals()[ticker] \u003d data.get_data_yahoo(ticker, \u00272017-10-10\u0027, \u00272019-04-10\u0027)\n                                                    #  Changed start to 1.5 years",
      "metadata": {
        "pycharm": {
          "metadata": false,
          "name": "#%%\n",
          "is_executing": false
        }
      }
    },
    {
      "cell_type": "markdown",
      "source": "The pandas DataFrame **.tail()** method shows the last five rows of stock \nquotes",
      "metadata": {
        "pycharm": {
          "metadata": false,
          "name": "#%% md\n"
        }
      }
    },
    {
      "cell_type": "code",
      "execution_count": 26,
      "outputs": [
        {
          "data": {
            "text/plain": "                 High        Low       Open      Close    Volume  Adj Close\nDate                                                                       \n2019-04-05  29.690001  28.799999  29.639999  28.980000  65662700  28.980000\n2019-04-08  28.950001  28.180000  28.690001  28.530001  58002500  28.530001\n2019-04-09  28.379999  27.190001  28.240000  27.240000  75539800  27.240000\n2019-04-10  28.120001  27.320000  27.459999  27.830000  64368100  27.830000\n2019-04-11  28.049999  27.459999  27.809999  27.790001  44801200  27.790001",
            "text/html": "\u003cdiv\u003e\n\u003cstyle scoped\u003e\n    .dataframe tbody tr th:only-of-type {\n        vertical-align: middle;\n    }\n\n    .dataframe tbody tr th {\n        vertical-align: top;\n    }\n\n    .dataframe thead th {\n        text-align: right;\n    }\n\u003c/style\u003e\n\u003ctable border\u003d\"1\" class\u003d\"dataframe\"\u003e\n  \u003cthead\u003e\n    \u003ctr style\u003d\"text-align: right;\"\u003e\n      \u003cth\u003e\u003c/th\u003e\n      \u003cth\u003eHigh\u003c/th\u003e\n      \u003cth\u003eLow\u003c/th\u003e\n      \u003cth\u003eOpen\u003c/th\u003e\n      \u003cth\u003eClose\u003c/th\u003e\n      \u003cth\u003eVolume\u003c/th\u003e\n      \u003cth\u003eAdj Close\u003c/th\u003e\n    \u003c/tr\u003e\n    \u003ctr\u003e\n      \u003cth\u003eDate\u003c/th\u003e\n      \u003cth\u003e\u003c/th\u003e\n      \u003cth\u003e\u003c/th\u003e\n      \u003cth\u003e\u003c/th\u003e\n      \u003cth\u003e\u003c/th\u003e\n      \u003cth\u003e\u003c/th\u003e\n      \u003cth\u003e\u003c/th\u003e\n    \u003c/tr\u003e\n  \u003c/thead\u003e\n  \u003ctbody\u003e\n    \u003ctr\u003e\n      \u003cth\u003e2019-04-05\u003c/th\u003e\n      \u003ctd\u003e29.690001\u003c/td\u003e\n      \u003ctd\u003e28.799999\u003c/td\u003e\n      \u003ctd\u003e29.639999\u003c/td\u003e\n      \u003ctd\u003e28.980000\u003c/td\u003e\n      \u003ctd\u003e65662700\u003c/td\u003e\n      \u003ctd\u003e28.980000\u003c/td\u003e\n    \u003c/tr\u003e\n    \u003ctr\u003e\n      \u003cth\u003e2019-04-08\u003c/th\u003e\n      \u003ctd\u003e28.950001\u003c/td\u003e\n      \u003ctd\u003e28.180000\u003c/td\u003e\n      \u003ctd\u003e28.690001\u003c/td\u003e\n      \u003ctd\u003e28.530001\u003c/td\u003e\n      \u003ctd\u003e58002500\u003c/td\u003e\n      \u003ctd\u003e28.530001\u003c/td\u003e\n    \u003c/tr\u003e\n    \u003ctr\u003e\n      \u003cth\u003e2019-04-09\u003c/th\u003e\n      \u003ctd\u003e28.379999\u003c/td\u003e\n      \u003ctd\u003e27.190001\u003c/td\u003e\n      \u003ctd\u003e28.240000\u003c/td\u003e\n      \u003ctd\u003e27.240000\u003c/td\u003e\n      \u003ctd\u003e75539800\u003c/td\u003e\n      \u003ctd\u003e27.240000\u003c/td\u003e\n    \u003c/tr\u003e\n    \u003ctr\u003e\n      \u003cth\u003e2019-04-10\u003c/th\u003e\n      \u003ctd\u003e28.120001\u003c/td\u003e\n      \u003ctd\u003e27.320000\u003c/td\u003e\n      \u003ctd\u003e27.459999\u003c/td\u003e\n      \u003ctd\u003e27.830000\u003c/td\u003e\n      \u003ctd\u003e64368100\u003c/td\u003e\n      \u003ctd\u003e27.830000\u003c/td\u003e\n    \u003c/tr\u003e\n    \u003ctr\u003e\n      \u003cth\u003e2019-04-11\u003c/th\u003e\n      \u003ctd\u003e28.049999\u003c/td\u003e\n      \u003ctd\u003e27.459999\u003c/td\u003e\n      \u003ctd\u003e27.809999\u003c/td\u003e\n      \u003ctd\u003e27.790001\u003c/td\u003e\n      \u003ctd\u003e44801200\u003c/td\u003e\n      \u003ctd\u003e27.790001\u003c/td\u003e\n    \u003c/tr\u003e\n  \u003c/tbody\u003e\n\u003c/table\u003e\n\u003c/div\u003e"
          },
          "metadata": {},
          "output_type": "execute_result",
          "execution_count": 26
        }
      ],
      "source": "#  Show the five most recent results for AMD\nAMD.tail()\n",
      "metadata": {
        "pycharm": {
          "metadata": false,
          "name": "#%%\n",
          "is_executing": false
        }
      }
    },
    {
      "cell_type": "markdown",
      "source": "#### Group Technology Stock Price Quotes \nUse the pandas Series concat() method to concatenate pandas objects.   \n",
      "metadata": {
        "pycharm": {
          "metadata": false,
          "name": "#%% md\n"
        }
      }
    },
    {
      "cell_type": "code",
      "execution_count": 30,
      "outputs": [],
      "source": "tech_stocks \u003d pd.concat([AMD, CSCO, INTC, MU, NVDA, ORCL, QCOM], axis\u003d1, keys\u003dticker_index_data)\n#  The \"axis\" param of 1 represents concatenating along the column axis. \n#  The \"keys\" param is a hierarchical index for each technology stock ticker. \n",
      "metadata": {
        "pycharm": {
          "metadata": false,
          "name": "#%%\n",
          "is_executing": false
        }
      }
    },
    {
      "cell_type": "markdown",
      "source": "Use the pandas DataFrame **.head()** method to display the first 5 rows of stock quotes for\nthe group DataFrame",
      "metadata": {
        "pycharm": {
          "metadata": false,
          "name": "#%% md\n"
        }
      }
    },
    {
      "cell_type": "code",
      "execution_count": 32,
      "outputs": [
        {
          "data": {
            "text/plain": "              AMD                                                CSCO  \\\n             High    Low   Open  Close    Volume Adj Close       High   \nDate                                                                    \n2017-10-10  13.79  13.44  13.72  13.70  43304000     13.70  33.910000   \n2017-10-11  13.96  13.61  13.62  13.88  38746600     13.88  33.630001   \n2017-10-12  14.37  13.81  13.85  14.20  69874100     14.20  33.459999   \n2017-10-13  14.41  14.12  14.32  14.22  37515800     14.22  33.570000   \n2017-10-16  14.35  14.12  14.25  14.26  34136800     14.26  33.639999   \n\n                                             ...       ORCL             \\\n                  Low       Open      Close  ...       Open      Close   \nDate                                         ...                         \n2017-10-10  33.470001  33.880001  33.549999  ...  48.160000  48.209999   \n2017-10-11  33.250000  33.380001  33.590000  ...  48.160000  48.279999   \n2017-10-12  33.169998  33.259998  33.259998  ...  48.270000  48.230000   \n2017-10-13  33.320000  33.400002  33.470001  ...  48.369999  48.610001   \n2017-10-16  33.470001  33.599998  33.540001  ...  48.610001  48.860001   \n\n                                        QCOM                                   \\\n                Volume  Adj Close       High        Low       Open      Close   \nDate                                                                            \n2017-10-10  15630500.0  47.049263  53.900002  52.900002  52.950001  53.869999   \n2017-10-11  12588300.0  47.117577  54.380001  53.660000  53.790001  54.119999   \n2017-10-12  11715600.0  47.068783  54.180000  52.959999  53.880001  53.000000   \n2017-10-13  10142300.0  47.439636  53.380001  52.740002  53.380001  52.820000   \n2017-10-16   9378100.0  47.683620  53.000000  52.310001  52.980000  52.380001   \n\n                                  \n               Volume  Adj Close  \nDate                              \n2017-10-10  8761700.0  50.250084  \n2017-10-11  9427300.0  50.483288  \n2017-10-12  7062300.0  49.438553  \n2017-10-13  7005600.0  49.270645  \n2017-10-16  5930900.0  48.860210  \n\n[5 rows x 42 columns]",
            "text/html": "\u003cdiv\u003e\n\u003cstyle scoped\u003e\n    .dataframe tbody tr th:only-of-type {\n        vertical-align: middle;\n    }\n\n    .dataframe tbody tr th {\n        vertical-align: top;\n    }\n\n    .dataframe thead tr th {\n        text-align: left;\n    }\n\n    .dataframe thead tr:last-of-type th {\n        text-align: right;\n    }\n\u003c/style\u003e\n\u003ctable border\u003d\"1\" class\u003d\"dataframe\"\u003e\n  \u003cthead\u003e\n    \u003ctr\u003e\n      \u003cth\u003e\u003c/th\u003e\n      \u003cth colspan\u003d\"6\" halign\u003d\"left\"\u003eAMD\u003c/th\u003e\n      \u003cth colspan\u003d\"4\" halign\u003d\"left\"\u003eCSCO\u003c/th\u003e\n      \u003cth\u003e...\u003c/th\u003e\n      \u003cth colspan\u003d\"4\" halign\u003d\"left\"\u003eORCL\u003c/th\u003e\n      \u003cth colspan\u003d\"6\" halign\u003d\"left\"\u003eQCOM\u003c/th\u003e\n    \u003c/tr\u003e\n    \u003ctr\u003e\n      \u003cth\u003e\u003c/th\u003e\n      \u003cth\u003eHigh\u003c/th\u003e\n      \u003cth\u003eLow\u003c/th\u003e\n      \u003cth\u003eOpen\u003c/th\u003e\n      \u003cth\u003eClose\u003c/th\u003e\n      \u003cth\u003eVolume\u003c/th\u003e\n      \u003cth\u003eAdj Close\u003c/th\u003e\n      \u003cth\u003eHigh\u003c/th\u003e\n      \u003cth\u003eLow\u003c/th\u003e\n      \u003cth\u003eOpen\u003c/th\u003e\n      \u003cth\u003eClose\u003c/th\u003e\n      \u003cth\u003e...\u003c/th\u003e\n      \u003cth\u003eOpen\u003c/th\u003e\n      \u003cth\u003eClose\u003c/th\u003e\n      \u003cth\u003eVolume\u003c/th\u003e\n      \u003cth\u003eAdj Close\u003c/th\u003e\n      \u003cth\u003eHigh\u003c/th\u003e\n      \u003cth\u003eLow\u003c/th\u003e\n      \u003cth\u003eOpen\u003c/th\u003e\n      \u003cth\u003eClose\u003c/th\u003e\n      \u003cth\u003eVolume\u003c/th\u003e\n      \u003cth\u003eAdj Close\u003c/th\u003e\n    \u003c/tr\u003e\n    \u003ctr\u003e\n      \u003cth\u003eDate\u003c/th\u003e\n      \u003cth\u003e\u003c/th\u003e\n      \u003cth\u003e\u003c/th\u003e\n      \u003cth\u003e\u003c/th\u003e\n      \u003cth\u003e\u003c/th\u003e\n      \u003cth\u003e\u003c/th\u003e\n      \u003cth\u003e\u003c/th\u003e\n      \u003cth\u003e\u003c/th\u003e\n      \u003cth\u003e\u003c/th\u003e\n      \u003cth\u003e\u003c/th\u003e\n      \u003cth\u003e\u003c/th\u003e\n      \u003cth\u003e\u003c/th\u003e\n      \u003cth\u003e\u003c/th\u003e\n      \u003cth\u003e\u003c/th\u003e\n      \u003cth\u003e\u003c/th\u003e\n      \u003cth\u003e\u003c/th\u003e\n      \u003cth\u003e\u003c/th\u003e\n      \u003cth\u003e\u003c/th\u003e\n      \u003cth\u003e\u003c/th\u003e\n      \u003cth\u003e\u003c/th\u003e\n      \u003cth\u003e\u003c/th\u003e\n      \u003cth\u003e\u003c/th\u003e\n    \u003c/tr\u003e\n  \u003c/thead\u003e\n  \u003ctbody\u003e\n    \u003ctr\u003e\n      \u003cth\u003e2017-10-10\u003c/th\u003e\n      \u003ctd\u003e13.79\u003c/td\u003e\n      \u003ctd\u003e13.44\u003c/td\u003e\n      \u003ctd\u003e13.72\u003c/td\u003e\n      \u003ctd\u003e13.70\u003c/td\u003e\n      \u003ctd\u003e43304000\u003c/td\u003e\n      \u003ctd\u003e13.70\u003c/td\u003e\n      \u003ctd\u003e33.910000\u003c/td\u003e\n      \u003ctd\u003e33.470001\u003c/td\u003e\n      \u003ctd\u003e33.880001\u003c/td\u003e\n      \u003ctd\u003e33.549999\u003c/td\u003e\n      \u003ctd\u003e...\u003c/td\u003e\n      \u003ctd\u003e48.160000\u003c/td\u003e\n      \u003ctd\u003e48.209999\u003c/td\u003e\n      \u003ctd\u003e15630500.0\u003c/td\u003e\n      \u003ctd\u003e47.049263\u003c/td\u003e\n      \u003ctd\u003e53.900002\u003c/td\u003e\n      \u003ctd\u003e52.900002\u003c/td\u003e\n      \u003ctd\u003e52.950001\u003c/td\u003e\n      \u003ctd\u003e53.869999\u003c/td\u003e\n      \u003ctd\u003e8761700.0\u003c/td\u003e\n      \u003ctd\u003e50.250084\u003c/td\u003e\n    \u003c/tr\u003e\n    \u003ctr\u003e\n      \u003cth\u003e2017-10-11\u003c/th\u003e\n      \u003ctd\u003e13.96\u003c/td\u003e\n      \u003ctd\u003e13.61\u003c/td\u003e\n      \u003ctd\u003e13.62\u003c/td\u003e\n      \u003ctd\u003e13.88\u003c/td\u003e\n      \u003ctd\u003e38746600\u003c/td\u003e\n      \u003ctd\u003e13.88\u003c/td\u003e\n      \u003ctd\u003e33.630001\u003c/td\u003e\n      \u003ctd\u003e33.250000\u003c/td\u003e\n      \u003ctd\u003e33.380001\u003c/td\u003e\n      \u003ctd\u003e33.590000\u003c/td\u003e\n      \u003ctd\u003e...\u003c/td\u003e\n      \u003ctd\u003e48.160000\u003c/td\u003e\n      \u003ctd\u003e48.279999\u003c/td\u003e\n      \u003ctd\u003e12588300.0\u003c/td\u003e\n      \u003ctd\u003e47.117577\u003c/td\u003e\n      \u003ctd\u003e54.380001\u003c/td\u003e\n      \u003ctd\u003e53.660000\u003c/td\u003e\n      \u003ctd\u003e53.790001\u003c/td\u003e\n      \u003ctd\u003e54.119999\u003c/td\u003e\n      \u003ctd\u003e9427300.0\u003c/td\u003e\n      \u003ctd\u003e50.483288\u003c/td\u003e\n    \u003c/tr\u003e\n    \u003ctr\u003e\n      \u003cth\u003e2017-10-12\u003c/th\u003e\n      \u003ctd\u003e14.37\u003c/td\u003e\n      \u003ctd\u003e13.81\u003c/td\u003e\n      \u003ctd\u003e13.85\u003c/td\u003e\n      \u003ctd\u003e14.20\u003c/td\u003e\n      \u003ctd\u003e69874100\u003c/td\u003e\n      \u003ctd\u003e14.20\u003c/td\u003e\n      \u003ctd\u003e33.459999\u003c/td\u003e\n      \u003ctd\u003e33.169998\u003c/td\u003e\n      \u003ctd\u003e33.259998\u003c/td\u003e\n      \u003ctd\u003e33.259998\u003c/td\u003e\n      \u003ctd\u003e...\u003c/td\u003e\n      \u003ctd\u003e48.270000\u003c/td\u003e\n      \u003ctd\u003e48.230000\u003c/td\u003e\n      \u003ctd\u003e11715600.0\u003c/td\u003e\n      \u003ctd\u003e47.068783\u003c/td\u003e\n      \u003ctd\u003e54.180000\u003c/td\u003e\n      \u003ctd\u003e52.959999\u003c/td\u003e\n      \u003ctd\u003e53.880001\u003c/td\u003e\n      \u003ctd\u003e53.000000\u003c/td\u003e\n      \u003ctd\u003e7062300.0\u003c/td\u003e\n      \u003ctd\u003e49.438553\u003c/td\u003e\n    \u003c/tr\u003e\n    \u003ctr\u003e\n      \u003cth\u003e2017-10-13\u003c/th\u003e\n      \u003ctd\u003e14.41\u003c/td\u003e\n      \u003ctd\u003e14.12\u003c/td\u003e\n      \u003ctd\u003e14.32\u003c/td\u003e\n      \u003ctd\u003e14.22\u003c/td\u003e\n      \u003ctd\u003e37515800\u003c/td\u003e\n      \u003ctd\u003e14.22\u003c/td\u003e\n      \u003ctd\u003e33.570000\u003c/td\u003e\n      \u003ctd\u003e33.320000\u003c/td\u003e\n      \u003ctd\u003e33.400002\u003c/td\u003e\n      \u003ctd\u003e33.470001\u003c/td\u003e\n      \u003ctd\u003e...\u003c/td\u003e\n      \u003ctd\u003e48.369999\u003c/td\u003e\n      \u003ctd\u003e48.610001\u003c/td\u003e\n      \u003ctd\u003e10142300.0\u003c/td\u003e\n      \u003ctd\u003e47.439636\u003c/td\u003e\n      \u003ctd\u003e53.380001\u003c/td\u003e\n      \u003ctd\u003e52.740002\u003c/td\u003e\n      \u003ctd\u003e53.380001\u003c/td\u003e\n      \u003ctd\u003e52.820000\u003c/td\u003e\n      \u003ctd\u003e7005600.0\u003c/td\u003e\n      \u003ctd\u003e49.270645\u003c/td\u003e\n    \u003c/tr\u003e\n    \u003ctr\u003e\n      \u003cth\u003e2017-10-16\u003c/th\u003e\n      \u003ctd\u003e14.35\u003c/td\u003e\n      \u003ctd\u003e14.12\u003c/td\u003e\n      \u003ctd\u003e14.25\u003c/td\u003e\n      \u003ctd\u003e14.26\u003c/td\u003e\n      \u003ctd\u003e34136800\u003c/td\u003e\n      \u003ctd\u003e14.26\u003c/td\u003e\n      \u003ctd\u003e33.639999\u003c/td\u003e\n      \u003ctd\u003e33.470001\u003c/td\u003e\n      \u003ctd\u003e33.599998\u003c/td\u003e\n      \u003ctd\u003e33.540001\u003c/td\u003e\n      \u003ctd\u003e...\u003c/td\u003e\n      \u003ctd\u003e48.610001\u003c/td\u003e\n      \u003ctd\u003e48.860001\u003c/td\u003e\n      \u003ctd\u003e9378100.0\u003c/td\u003e\n      \u003ctd\u003e47.683620\u003c/td\u003e\n      \u003ctd\u003e53.000000\u003c/td\u003e\n      \u003ctd\u003e52.310001\u003c/td\u003e\n      \u003ctd\u003e52.980000\u003c/td\u003e\n      \u003ctd\u003e52.380001\u003c/td\u003e\n      \u003ctd\u003e5930900.0\u003c/td\u003e\n      \u003ctd\u003e48.860210\u003c/td\u003e\n    \u003c/tr\u003e\n  \u003c/tbody\u003e\n\u003c/table\u003e\n\u003cp\u003e5 rows × 42 columns\u003c/p\u003e\n\u003c/div\u003e"
          },
          "metadata": {},
          "output_type": "execute_result",
          "execution_count": 32
        }
      ],
      "source": "tech_stocks.head()\n",
      "metadata": {
        "pycharm": {
          "metadata": false,
          "name": "#%%\n",
          "is_executing": false
        }
      }
    },
    {
      "cell_type": "markdown",
      "source": "### Exploring the Data\n-----\n\n##### Data Structure\nThe Pandas DataFrame **.shape** attribute displays the database\u0027s dimensionality",
      "metadata": {
        "pycharm": {
          "metadata": false,
          "name": "#%% md\n"
        }
      }
    },
    {
      "cell_type": "code",
      "execution_count": 34,
      "outputs": [
        {
          "data": {
            "text/plain": "(378, 6)"
          },
          "metadata": {},
          "output_type": "execute_result",
          "execution_count": 34
        }
      ],
      "source": "AMD.shape\n",
      "metadata": {
        "pycharm": {
          "metadata": false,
          "name": "#%%\n",
          "is_executing": false
        }
      }
    },
    {
      "cell_type": "markdown",
      "source": "The Pandas DataFrame **.dtypes** attribute returns a series with the data type of\neach column\n",
      "metadata": {
        "pycharm": {
          "metadata": false,
          "name": "#%% md\n"
        }
      }
    },
    {
      "cell_type": "code",
      "execution_count": 33,
      "outputs": [
        {
          "data": {
            "text/plain": "High         float64\nLow          float64\nOpen         float64\nClose        float64\nVolume         int64\nAdj Close    float64\ndtype: object"
          },
          "metadata": {},
          "output_type": "execute_result",
          "execution_count": 33
        }
      ],
      "source": "AMD.dtypes\n",
      "metadata": {
        "pycharm": {
          "metadata": false,
          "name": "#%% \n",
          "is_executing": false
        }
      }
    },
    {
      "cell_type": "markdown",
      "source": "##### Descriptive Statistics\nThe pandas Series\u0027 **.describe()** method generates descriptive statistics summarizing the central measures\n(min, mean, max), dispersion (std), and shape of distribution.\n \nThe mean, std, min, max, and percentiles for each attribute in the AMD stock quote. ",
      "metadata": {
        "pycharm": {
          "metadata": false,
          "name": "#%% md\n"
        }
      }
    },
    {
      "cell_type": "code",
      "execution_count": 7,
      "outputs": [
        {
          "data": {
            "text/plain": "             High         Low        Open       Close        Volume  \\\ncount  378.000000  378.000000  378.000000  378.000000  3.780000e+02   \nmean    17.925212   17.053095   17.494392   17.497381  7.927800e+07   \nstd      6.445175    6.008648    6.237150    6.233647  4.433242e+07   \nmin      9.770000    9.040000    9.080000    9.530000  1.103580e+07   \n25%     12.042500   11.562500   11.730000   11.812500  4.679845e+07   \n50%     16.850000   16.150000   16.510000   16.535000  6.578995e+07   \n75%     22.387500   21.122499   21.807500   22.062500  9.965758e+07   \nmax     34.139999   32.189999   33.180000   32.720001  3.250584e+08   \n\n        Adj Close  \ncount  378.000000  \nmean    17.497381  \nstd      6.233647  \nmin      9.530000  \n25%     11.812500  \n50%     16.535000  \n75%     22.062500  \nmax     32.720001  ",
            "text/html": "\u003cdiv\u003e\n\u003cstyle scoped\u003e\n    .dataframe tbody tr th:only-of-type {\n        vertical-align: middle;\n    }\n\n    .dataframe tbody tr th {\n        vertical-align: top;\n    }\n\n    .dataframe thead th {\n        text-align: right;\n    }\n\u003c/style\u003e\n\u003ctable border\u003d\"1\" class\u003d\"dataframe\"\u003e\n  \u003cthead\u003e\n    \u003ctr style\u003d\"text-align: right;\"\u003e\n      \u003cth\u003e\u003c/th\u003e\n      \u003cth\u003eHigh\u003c/th\u003e\n      \u003cth\u003eLow\u003c/th\u003e\n      \u003cth\u003eOpen\u003c/th\u003e\n      \u003cth\u003eClose\u003c/th\u003e\n      \u003cth\u003eVolume\u003c/th\u003e\n      \u003cth\u003eAdj Close\u003c/th\u003e\n    \u003c/tr\u003e\n  \u003c/thead\u003e\n  \u003ctbody\u003e\n    \u003ctr\u003e\n      \u003cth\u003ecount\u003c/th\u003e\n      \u003ctd\u003e378.000000\u003c/td\u003e\n      \u003ctd\u003e378.000000\u003c/td\u003e\n      \u003ctd\u003e378.000000\u003c/td\u003e\n      \u003ctd\u003e378.000000\u003c/td\u003e\n      \u003ctd\u003e3.780000e+02\u003c/td\u003e\n      \u003ctd\u003e378.000000\u003c/td\u003e\n    \u003c/tr\u003e\n    \u003ctr\u003e\n      \u003cth\u003emean\u003c/th\u003e\n      \u003ctd\u003e17.925212\u003c/td\u003e\n      \u003ctd\u003e17.053095\u003c/td\u003e\n      \u003ctd\u003e17.494392\u003c/td\u003e\n      \u003ctd\u003e17.497381\u003c/td\u003e\n      \u003ctd\u003e7.927800e+07\u003c/td\u003e\n      \u003ctd\u003e17.497381\u003c/td\u003e\n    \u003c/tr\u003e\n    \u003ctr\u003e\n      \u003cth\u003estd\u003c/th\u003e\n      \u003ctd\u003e6.445175\u003c/td\u003e\n      \u003ctd\u003e6.008648\u003c/td\u003e\n      \u003ctd\u003e6.237150\u003c/td\u003e\n      \u003ctd\u003e6.233647\u003c/td\u003e\n      \u003ctd\u003e4.433242e+07\u003c/td\u003e\n      \u003ctd\u003e6.233647\u003c/td\u003e\n    \u003c/tr\u003e\n    \u003ctr\u003e\n      \u003cth\u003emin\u003c/th\u003e\n      \u003ctd\u003e9.770000\u003c/td\u003e\n      \u003ctd\u003e9.040000\u003c/td\u003e\n      \u003ctd\u003e9.080000\u003c/td\u003e\n      \u003ctd\u003e9.530000\u003c/td\u003e\n      \u003ctd\u003e1.103580e+07\u003c/td\u003e\n      \u003ctd\u003e9.530000\u003c/td\u003e\n    \u003c/tr\u003e\n    \u003ctr\u003e\n      \u003cth\u003e25%\u003c/th\u003e\n      \u003ctd\u003e12.042500\u003c/td\u003e\n      \u003ctd\u003e11.562500\u003c/td\u003e\n      \u003ctd\u003e11.730000\u003c/td\u003e\n      \u003ctd\u003e11.812500\u003c/td\u003e\n      \u003ctd\u003e4.679845e+07\u003c/td\u003e\n      \u003ctd\u003e11.812500\u003c/td\u003e\n    \u003c/tr\u003e\n    \u003ctr\u003e\n      \u003cth\u003e50%\u003c/th\u003e\n      \u003ctd\u003e16.850000\u003c/td\u003e\n      \u003ctd\u003e16.150000\u003c/td\u003e\n      \u003ctd\u003e16.510000\u003c/td\u003e\n      \u003ctd\u003e16.535000\u003c/td\u003e\n      \u003ctd\u003e6.578995e+07\u003c/td\u003e\n      \u003ctd\u003e16.535000\u003c/td\u003e\n    \u003c/tr\u003e\n    \u003ctr\u003e\n      \u003cth\u003e75%\u003c/th\u003e\n      \u003ctd\u003e22.387500\u003c/td\u003e\n      \u003ctd\u003e21.122499\u003c/td\u003e\n      \u003ctd\u003e21.807500\u003c/td\u003e\n      \u003ctd\u003e22.062500\u003c/td\u003e\n      \u003ctd\u003e9.965758e+07\u003c/td\u003e\n      \u003ctd\u003e22.062500\u003c/td\u003e\n    \u003c/tr\u003e\n    \u003ctr\u003e\n      \u003cth\u003emax\u003c/th\u003e\n      \u003ctd\u003e34.139999\u003c/td\u003e\n      \u003ctd\u003e32.189999\u003c/td\u003e\n      \u003ctd\u003e33.180000\u003c/td\u003e\n      \u003ctd\u003e32.720001\u003c/td\u003e\n      \u003ctd\u003e3.250584e+08\u003c/td\u003e\n      \u003ctd\u003e32.720001\u003c/td\u003e\n    \u003c/tr\u003e\n  \u003c/tbody\u003e\n\u003c/table\u003e\n\u003c/div\u003e"
          },
          "metadata": {},
          "output_type": "execute_result",
          "execution_count": 7
        }
      ],
      "source": "AMD.describe()\n",
      "metadata": {
        "pycharm": {
          "metadata": false,
          "name": "#%%\n",
          "is_executing": false
        }
      }
    },
    {
      "cell_type": "markdown",
      "source": "##### Visualising Historical Closing Quotes of Financial Data\n\nMatplotlib displays a historical view of the shares closing price (\u0027Adj Closing\u0027 preferred to \u0027Closing\u0027)",
      "metadata": {
        "pycharm": {
          "metadata": false
        }
      }
    },
    {
      "cell_type": "code",
      "execution_count": 18,
      "outputs": [
        {
          "traceback": [
            "\u001b[0;31m---------------------------------------------------------------------------\u001b[0m",
            "\u001b[0;31mTypeError\u001b[0m                                 Traceback (most recent call last)",
            "\u001b[0;32m\u003cipython-input-18-b5c57b53a8ea\u003e\u001b[0m in \u001b[0;36m\u003cmodule\u003e\u001b[0;34m\u001b[0m\n\u001b[1;32m      9\u001b[0m \u001b[0;31m#\u001b[0m\u001b[0;34m\u001b[0m\u001b[0;34m\u001b[0m\u001b[0;34m\u001b[0m\u001b[0m\n\u001b[1;32m     10\u001b[0m \u001b[0;34m\u001b[0m\u001b[0m\n\u001b[0;32m---\u003e 11\u001b[0;31m ticker_index_data[\u0027Adj Close\u0027].plot(legend\u003dTrue, label\u003d\u0027AMD\u0027, \n\u001b[0m\u001b[1;32m     12\u001b[0m                                     title\u003d\u0027Historical View of Closing Prices\u0027, figsize\u003d(12, 8))\n",
            "\u001b[0;31mTypeError\u001b[0m: list indices must be integers or slices, not str"
          ],
          "ename": "TypeError",
          "evalue": "list indices must be integers or slices, not str",
          "output_type": "error"
        }
      ],
      "source": "#  Add each stock\u0027s historical closing price time series to plot\nAMD[\u0027Adj Close\u0027].plot(legend\u003dTrue, label\u003d\u0027AMD\u0027, title\u003d\u0027Historical View of Closing Prices\u0027, figsize\u003d(12, 8))\nCSCO[\u0027Adj Close\u0027].plot(legend\u003dTrue, label\u003d\u0027CSCO\u0027)\nINTC[\u0027Adj Close\u0027].plot(legend\u003dTrue, label\u003d\u0027INTC\u0027)\nMU[\u0027Adj Close\u0027].plot(legend\u003dTrue, label\u003d\u0027MU\u0027)\nNVDA[\u0027Adj Close\u0027].plot(legend\u003dTrue, label\u003d\u0027NVDA\u0027)\nORCL[\u0027Adj Close\u0027].plot(legend\u003dTrue, label\u003d\u0027ORCL\u0027)\nQCOM[\u0027Adj Close\u0027].plot(legend\u003dTrue, label\u003d\u0027QCOM\u0027)\n",
      "metadata": {
        "pycharm": {
          "metadata": false,
          "name": "#%%\n",
          "is_executing": false
        }
      }
    }
  ],
  "metadata": {
    "language_info": {
      "codemirror_mode": {
        "name": "ipython",
        "version": 2
      },
      "file_extension": ".py",
      "mimetype": "text/x-python",
      "name": "python",
      "nbconvert_exporter": "python",
      "pygments_lexer": "ipython2",
      "version": "2.7.6"
    },
    "kernelspec": {
      "name": "python3",
      "language": "python",
      "display_name": "Python 3"
    },
    "stem_cell": {
      "cell_type": "raw",
      "source": "",
      "metadata": {
        "pycharm": {
          "metadata": false
        }
      }
    }
  },
  "nbformat": 4,
  "nbformat_minor": 0
}