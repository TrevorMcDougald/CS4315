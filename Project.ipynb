{
  "cells": [
    {
      "cell_type": "markdown",
      "source": "# Stock Market Time-Series Analysis and Forecasting\n\n#### Introduction to the Stock Market\nThe New York Stock Exchange (NYSE), the American stock exchange, \nsanctions the buying and trading of shares for publicly \nregistered companies. The public stock exchange allows businesses to\nraise financial capital by selling shares of ownership. The value of a share to \ninvestors is measured by a stock price. There are many variables and uncertainties which\ncan influence a stock\u0027s price away from market equilibrium. Overly optimistic or pessimistic \nconditions can drive stock value excessively high or low. The volatile erratic nature of \nstock behavior creates market risk. Investors look for stocks with \nvalue that is expected to rise while avoiding stocks expected to decrease in value.\nKnowledge of stock price movement is essential for minimizing market risk.    \n\n#### Purpose\nThe goal of this project is to explore the knowledge discovery process from\nthe data of several stocks in the technology sector (Table). The information (historical \nstock quotes) is extracted live from the Yahoo! Finance web service. Collected information is\nformatted as a financial time series. This mathematical model is ideal for\nfinding statistical descriptions and data visualizations of asset evaluation over time. After \ninteresting knowledge is discovered from the data (relevance analysis)\n, a classification and regression processes will be used for predictive analysis.   \n\n| Technology Stock | Symbol |\n|---------------|--------------|\n| Adv Micro Devices | (**AMD**) | \n| Micron Technology | (**MU**) | \n| Cisco Systems Inc | (**CSCO**) | \n| Intel Corp | (**INTC**) | \n| Nvidia Corp | (**NVDA**) |\n| Oracle Corp | (**ORCL**) | \n| Qualcomm Inc | (**QCOM**) | \n",
      "metadata": {
        "pycharm": {
          "metadata": false
        }
      }
    },
    {
      "cell_type": "markdown",
      "source": "## Time Series Analysis\n\nA **Time Series** is defined as a sequence of *n* random variables at integer time \npoints t\u003csub\u003e1\u003c/sub\u003e, t\u003csub\u003e2\u003c/sub\u003e,..., t\u003csub\u003en\u003c/sub\u003e, for a positive integer *n*. \nThe random variable *t\u003csub\u003en\u003c/sub\u003e* is the value of the series at the n\u003csup\u003eth\u003c/sup\u003e time point. \nTime series have a predictive inference from their underlying stochastic property. \n\u003e In probability or related fields, a **Stochastic Process** refers to a collection of \nrandom variables indexed by n; {x\u003csub\u003en\u003c/sub\u003e} (*i.e a process representing numerical \nvalues of some system randomly changing over time*).  \n\nFinancial data are a fixed frequency time series, meaning the data points occur at regular intervals. \nFor historical stock quotes these intervals are daily.   \n",
      "metadata": {
        "pycharm": {
          "metadata": false
        }
      }
    },
    {
      "cell_type": "markdown",
      "source": "##### Time series imports\n",
      "metadata": {
        "pycharm": {
          "metadata": false,
          "name": "#%% md\n"
        }
      }
    },
    {
      "cell_type": "code",
      "execution_count": null,
      "outputs": [],
      "source": "#  NumPy and Pandas imports\nimport numpy as np\nimport pandas as pd\nfrom pandas import Series, DataFrame\n\n#  Reading time series\nfrom pandas_datareader import data\n\n#  Time stamps\nimport datetime\n\n#  Visualization (sns is a visualization library based on matplotlib)\nimport matplotlib.pyplot as plt\nimport seaborn as sns\n%matplotlib inline\n",
      "metadata": {
        "pycharm": {
          "metadata": false,
          "name": "#%%\n"
        }
      }
    },
    {
      "cell_type": "markdown",
      "source": "###### Visualization of historical stock price movement\n",
      "metadata": {
        "pycharm": {
          "metadata": false
        }
      }
    },
    {
      "cell_type": "code",
      "execution_count": null,
      "outputs": [],
      "source": "\n",
      "metadata": {
        "pycharm": {
          "metadata": false,
          "name": "#%%\n"
        }
      }
    }
  ],
  "metadata": {
    "language_info": {
      "codemirror_mode": {
        "name": "ipython",
        "version": 2
      },
      "file_extension": ".py",
      "mimetype": "text/x-python",
      "name": "python",
      "nbconvert_exporter": "python",
      "pygments_lexer": "ipython2",
      "version": "2.7.6"
    },
    "kernelspec": {
      "name": "python3",
      "language": "python",
      "display_name": "Python 3"
    },
    "stem_cell": {
      "cell_type": "raw",
      "source": "",
      "metadata": {
        "pycharm": {
          "metadata": false
        }
      }
    }
  },
  "nbformat": 4,
  "nbformat_minor": 0
}