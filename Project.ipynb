{
  "cells": [
    {
      "cell_type": "markdown",
      "source": "# Stock Market Time-Series Analysis and Forecasting in Python\n\n### Introduction to the Stock Market\nThe New York Stock Exchange (NYSE), the American stock exchange, \nsanctions the buying and trading of shares for publicly \nregistered companies. The public stock exchange allows businesses to\nraise financial capital by selling shares of ownership. The value of a share to \ninvestors is measured by a stock price. There are many variables and uncertainties which\ncan influence a stock\u0027s price away from market equilibrium. Overly optimistic or pessimistic \nconditions can drive stock value excessively high or low. The erratic nature of \nstock behavior creates a market risk. Investors look for stocks with \nvalue expected to rise while avoiding stocks with value expected to decrease.\nKnowledge of stock price movement is essential for minimizing market risk.    \n\n### Objective\nThe goal of this project is to explore the knowledge discovery from\nfinancial data (KDD) process for several stocks in the technology sector (listed in table). \nThe information (historical stock quotes) will be retrieved live from the Yahoo! Finance web service. \nThe Collected information is then formatted as a financial time series. \nThis mathematical model is ideal for finding statistical descriptions and data visualizations of \nasset evaluation over time. \n\n| Technology Stock | Ticker |\n|---------------|--------------|\n| Adv Micro Devices | (**AMD**) | \n| Cisco Systems Inc | (**CSCO**) | \n| Intel Corp | (**INTC**) | \n| Micron Technology | (**MU**) | \n| Nvidia Corp | (**NVDA**) |\n| Oracle Corp | (**ORCL**) | \n| Qualcomm Inc | (**QCOM**) | \n\nThe process of knowledge discovery from the financial data will be split into two parts:\n   \n**Part 1**: For the first part (*Time Series Analysis*), interesting knowledge will be discovered using statistical methods. These will describe \nthe collection, analysis, interpretation, and presentation of the data. A *statistical model* is established\nmathematical functions describing the behavior of objects in terms of random variables and their associated\nprobability distributions. This Project is based on the previously mentioned statistical model \nknown as a time series. A central idea of the project will be understanding a financial time series using \n*statistical descriptions*. These will be used to identify the properties of the series and spotlight \ndata values which are noise or outliers. This will merge with the last concept of Part 1, *relevance analysis*, \nwhich is the first step in the data mining functionality: Classification and Regression for Predictive Analysis. \nThis is described as attempting to identify attributes which are more relevant to the predictive process. \n\n**Part 2**: The second part of the knowledge discovery from data (KDD) process is based on \nthe *predictive analysis* concepts of the data mining functionality: Classification and Regression for \nPredictive Analysis. The predictive process is a type of *Supervised Learning* because the extracted \ndataset will serve as \"supervision\" for the learning process. Attributes from the preprocessed \ndata in Part 1 will make up the training set for the Classification learning phase. A classifier will \nbe constructed to predict a financial attribute.    \n",
      "metadata": {
        "pycharm": {
          "metadata": false
        }
      }
    },
    {
      "cell_type": "markdown",
      "source": "## Time Series Analysis\n-------\nA **Time Series** on a variable x is indicated as x\u003csub\u003et\u003c/sub\u003e, the subscript t \nrepresents time. The first observation available on x is at t\u003d1, the last is t\u003dT.\nThe set of times t\u003d1,2,...,T is referred to as the observation period. Observations are \ntypically measured in equally spaced intervals (minute, hour, day, etc... for finance). \nTime series have a wide variety of traits and the awareness of these is important for\nunderstanding the particular properties and evolution.  \n\nAn example trait is calculating future forecast, as unknown values of x\u003csub\u003et\u003c/sub\u003e\nat times T+1,T+2,..T+h. *h* is referred to as the forecast horizon. \n\nA **Time Series** is defined as a sequence of *n* random variables at integer time \npoints t\u003csub\u003e1\u003c/sub\u003e, t\u003csub\u003e2\u003c/sub\u003e,..., t\u003csub\u003en\u003c/sub\u003e, for a positive integer *n*. \nThe random variable *t\u003csub\u003en\u003c/sub\u003e* is the value of the series at the n\u003csup\u003eth\u003c/sup\u003e time point. \nTime series have a predictive inference based on the underlying stochastic property. \n\u003e In probability or related fields, a **Stochastic Process** refers to a collection of \nrandom variables indexed by n; {x\u003csub\u003en\u003c/sub\u003e} (*i.e a process representing numerical \nvalues of some system randomly changing over time*).  \n\nFinancial data is a fixed frequency time series, meaning the \ndata points occur at regular intervals. This project will focus on financial time series with a daily \nfrequency. Higher frequencies in financial time series is referred to as \"high frequency\" or \"tick-by-tick\" data.\n",
      "metadata": {
        "pycharm": {
          "metadata": false
        }
      }
    },
    {
      "cell_type": "markdown",
      "source": "##### Time Series Package Imports\n",
      "metadata": {
        "pycharm": {
          "metadata": false,
          "name": "#%% md\n"
        }
      }
    },
    {
      "cell_type": "code",
      "execution_count": 2,
      "outputs": [],
      "source": "#  NumPy and Pandas imports\nimport numpy as np\nimport pandas as pd\nfrom pandas import Series, DataFrame\n\n#  Reading time series\nfrom pandas_datareader import data\n\n#  Time stamps\nimport datetime as datetime\n\n#  Visualization (sns is a visualization library based on matplotlib)\nimport matplotlib.pyplot as plt\nimport seaborn as sns\n%matplotlib inline\n",
      "metadata": {
        "pycharm": {
          "metadata": false,
          "name": "#%%\n",
          "is_executing": false
        }
      }
    },
    {
      "cell_type": "markdown",
      "source": "##### Retrieving Stock Price Movement\nThe following uses the pandas_datareader package to get a Yahoo! Finance\nhistorical price database of each stock\n\nThe historical price database is made up of tuples with 7 associated class labels.\nEach tuple is represented as a 7-dimensional attribute vector (Date, High, Low, Open, Close, Volume, Adj Close).\n ",
      "metadata": {
        "pycharm": {
          "metadata": false
        }
      }
    },
    {
      "cell_type": "code",
      "execution_count": 3,
      "outputs": [
        {
          "data": {
            "text/plain": "                 High        Low       Open      Close    Volume  Adj Close\nDate                                                                       \n2019-04-05  29.690001  28.799999  29.639999  28.980000  65662700  28.980000\n2019-04-08  28.950001  28.180000  28.690001  28.530001  58002500  28.530001\n2019-04-09  28.379999  27.190001  28.240000  27.240000  75539800  27.240000\n2019-04-10  28.120001  27.320000  27.459999  27.830000  64368100  27.830000\n2019-04-11  28.049999  27.459999  27.809999  27.790001  44801200  27.790001",
            "text/html": "\u003cdiv\u003e\n\u003cstyle scoped\u003e\n    .dataframe tbody tr th:only-of-type {\n        vertical-align: middle;\n    }\n\n    .dataframe tbody tr th {\n        vertical-align: top;\n    }\n\n    .dataframe thead th {\n        text-align: right;\n    }\n\u003c/style\u003e\n\u003ctable border\u003d\"1\" class\u003d\"dataframe\"\u003e\n  \u003cthead\u003e\n    \u003ctr style\u003d\"text-align: right;\"\u003e\n      \u003cth\u003e\u003c/th\u003e\n      \u003cth\u003eHigh\u003c/th\u003e\n      \u003cth\u003eLow\u003c/th\u003e\n      \u003cth\u003eOpen\u003c/th\u003e\n      \u003cth\u003eClose\u003c/th\u003e\n      \u003cth\u003eVolume\u003c/th\u003e\n      \u003cth\u003eAdj Close\u003c/th\u003e\n    \u003c/tr\u003e\n    \u003ctr\u003e\n      \u003cth\u003eDate\u003c/th\u003e\n      \u003cth\u003e\u003c/th\u003e\n      \u003cth\u003e\u003c/th\u003e\n      \u003cth\u003e\u003c/th\u003e\n      \u003cth\u003e\u003c/th\u003e\n      \u003cth\u003e\u003c/th\u003e\n      \u003cth\u003e\u003c/th\u003e\n    \u003c/tr\u003e\n  \u003c/thead\u003e\n  \u003ctbody\u003e\n    \u003ctr\u003e\n      \u003cth\u003e2019-04-05\u003c/th\u003e\n      \u003ctd\u003e29.690001\u003c/td\u003e\n      \u003ctd\u003e28.799999\u003c/td\u003e\n      \u003ctd\u003e29.639999\u003c/td\u003e\n      \u003ctd\u003e28.980000\u003c/td\u003e\n      \u003ctd\u003e65662700\u003c/td\u003e\n      \u003ctd\u003e28.980000\u003c/td\u003e\n    \u003c/tr\u003e\n    \u003ctr\u003e\n      \u003cth\u003e2019-04-08\u003c/th\u003e\n      \u003ctd\u003e28.950001\u003c/td\u003e\n      \u003ctd\u003e28.180000\u003c/td\u003e\n      \u003ctd\u003e28.690001\u003c/td\u003e\n      \u003ctd\u003e28.530001\u003c/td\u003e\n      \u003ctd\u003e58002500\u003c/td\u003e\n      \u003ctd\u003e28.530001\u003c/td\u003e\n    \u003c/tr\u003e\n    \u003ctr\u003e\n      \u003cth\u003e2019-04-09\u003c/th\u003e\n      \u003ctd\u003e28.379999\u003c/td\u003e\n      \u003ctd\u003e27.190001\u003c/td\u003e\n      \u003ctd\u003e28.240000\u003c/td\u003e\n      \u003ctd\u003e27.240000\u003c/td\u003e\n      \u003ctd\u003e75539800\u003c/td\u003e\n      \u003ctd\u003e27.240000\u003c/td\u003e\n    \u003c/tr\u003e\n    \u003ctr\u003e\n      \u003cth\u003e2019-04-10\u003c/th\u003e\n      \u003ctd\u003e28.120001\u003c/td\u003e\n      \u003ctd\u003e27.320000\u003c/td\u003e\n      \u003ctd\u003e27.459999\u003c/td\u003e\n      \u003ctd\u003e27.830000\u003c/td\u003e\n      \u003ctd\u003e64368100\u003c/td\u003e\n      \u003ctd\u003e27.830000\u003c/td\u003e\n    \u003c/tr\u003e\n    \u003ctr\u003e\n      \u003cth\u003e2019-04-11\u003c/th\u003e\n      \u003ctd\u003e28.049999\u003c/td\u003e\n      \u003ctd\u003e27.459999\u003c/td\u003e\n      \u003ctd\u003e27.809999\u003c/td\u003e\n      \u003ctd\u003e27.790001\u003c/td\u003e\n      \u003ctd\u003e44801200\u003c/td\u003e\n      \u003ctd\u003e27.790001\u003c/td\u003e\n    \u003c/tr\u003e\n  \u003c/tbody\u003e\n\u003c/table\u003e\n\u003c/div\u003e"
          },
          "metadata": {},
          "output_type": "execute_result",
          "execution_count": 3
        }
      ],
      "source": "#  Stocks grabbing index data from Yahoo! Finance\nstock_index_data \u003d [\u0027AMD\u0027, \u0027CSCO\u0027, \u0027INTC\u0027, \u0027MU\u0027, \u0027NVDA\u0027, \u0027ORCL\u0027, \u0027QCOM\u0027]\n\n\nfor stock in stock_index_data:\n    globals()[stock] \u003d data.get_data_yahoo(stock, \u00272017-04-10\u0027, \u00272019-04-10\u0027)\n\nAMD.tail()\n",
      "metadata": {
        "pycharm": {
          "metadata": false,
          "name": "#%%\n",
          "is_executing": false
        }
      }
    }
  ],
  "metadata": {
    "language_info": {
      "codemirror_mode": {
        "name": "ipython",
        "version": 2
      },
      "file_extension": ".py",
      "mimetype": "text/x-python",
      "name": "python",
      "nbconvert_exporter": "python",
      "pygments_lexer": "ipython2",
      "version": "2.7.6"
    },
    "kernelspec": {
      "name": "python3",
      "language": "python",
      "display_name": "Python 3"
    },
    "stem_cell": {
      "cell_type": "raw",
      "source": "",
      "metadata": {
        "pycharm": {
          "metadata": false
        }
      }
    }
  },
  "nbformat": 4,
  "nbformat_minor": 0
}