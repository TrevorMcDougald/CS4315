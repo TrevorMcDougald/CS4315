{
  "cells": [
    {
      "cell_type": "markdown",
      "source": "###### Package Imports",
      "metadata": {
        "pycharm": {
          "metadata": false
        }
      }
    },
    {
      "cell_type": "code",
      "execution_count": 3,
      "outputs": [],
      "source": "#  NumPy and Pandas imports\nimport numpy as np\nimport pandas as pd\nfrom pandas import Series, DataFrame\n\n#  Reading time series\nfrom pandas_datareader import data\n\n#  Time stamps\nimport datetime as datetime\n\n#  statistics package\nfrom scipy import stats\n\n#  Visualization (sns is a visualization library based on matplotlib)\nimport matplotlib.pyplot as plt\nimport seaborn as sns\nsns.set_style(\u0027darkgrid\u0027)\n%matplotlib inline",
      "metadata": {
        "pycharm": {
          "metadata": false,
          "name": "#%%\n",
          "is_executing": false
        }
      }
    },
    {
      "cell_type": "markdown",
      "source": "###### Extract Data",
      "metadata": {
        "pycharm": {
          "metadata": false,
          "name": "#%% md\n"
        }
      }
    },
    {
      "cell_type": "code",
      "execution_count": 4,
      "outputs": [],
      "source": "#  Stock tickers to retrieve historical index data\nticker_index_data \u003d [\u0027AMD\u0027, \u0027CSCO\u0027, \u0027INTC\u0027, \u0027MU\u0027, \u0027ORCL\u0027, \u0027QCOM\u0027]\n\n#  Start and End retrieval dates\nstart \u003d datetime.date(2017, 10, 10)\nend \u003d datetime.date(2019, 4, 10)\n\n#  Closing price for each tech stock\nstock_closing_prices \u003d data.DataReader(ticker_index_data, \u0027yahoo\u0027, start, end)[\u0027Close\u0027]\n",
      "metadata": {
        "pycharm": {
          "metadata": false,
          "name": "#%%\n",
          "is_executing": false
        }
      }
    },
    {
      "cell_type": "markdown",
      "source": "# Part 2: Exploring the Data\n------\n",
      "metadata": {
        "pycharm": {
          "metadata": false,
          "name": "#%% md\n"
        }
      }
    },
    {
      "cell_type": "markdown",
      "source": "## Daily Return\n------\nTo quantify the daily return, the **percentage change** is calculated as the percentage between the \ndifference of the current and prior element divided by the prior element. \nUsing this function on the \u0027Close\u0027 attribute gives the daily\nreturn for the technology stock",
      "metadata": {
        "pycharm": {
          "metadata": false,
          "name": "#%% md\n"
        }
      }
    },
    {
      "cell_type": "code",
      "execution_count": 6,
      "outputs": [],
      "source": "#  The pandas DataFrame .pct_change() method returns the percentage change \ntech_daily_return \u003d stock_closing_prices.pct_change()\n ",
      "metadata": {
        "pycharm": {
          "metadata": false,
          "name": "#%%\n",
          "is_executing": false
        }
      }
    },
    {
      "cell_type": "markdown",
      "source": "### Describe Daily Return\n* The sample statistics show: \n    \n    * The average daily return over the observation period. \n             \n             - All stocks averaged a positive daily return\n    * The lowest daily return change (biggest price drop) and the maximum\n      return (biggest price increase) for each stock. \n            \n    * The volatility of each stock is described with standard deviation. \n            \n            - AMD had daily returns with the most dispersion from its mean \n    \n    * The descriptive statistics show CSCO, MU, and QCOM have more positive returns above the mean than below the mean\n            \n            -The mean must be skewed by negative returns.   ",
      "metadata": {
        "pycharm": {
          "metadata": false
        }
      }
    },
    {
      "cell_type": "code",
      "execution_count": 8,
      "outputs": [
        {
          "data": {
            "text/plain": "Symbols         AMD        CSCO        INTC          MU        ORCL  \\\ncount    377.000000  377.000000  377.000000  377.000000  377.000000   \nmean       0.002654    0.001453    0.001102    0.000476    0.000395   \nstd        0.039583    0.015026    0.019838    0.030250    0.014349   \nmin       -0.154454   -0.052529   -0.085890   -0.098708   -0.094321   \n25%       -0.016918   -0.005587   -0.008835   -0.016053   -0.005285   \n50%        0.002024    0.001663    0.000755    0.000892    0.001622   \n75%        0.022670    0.008961    0.011899    0.018915    0.007929   \nmax        0.199481    0.055042    0.105519    0.113706    0.044507   \n\nSymbols        QCOM  \ncount    377.000000  \nmean       0.000272  \nstd        0.018691  \nmin       -0.081633  \n25%       -0.008312  \n50%        0.000609  \n75%        0.009129  \nmax        0.127097  ",
            "text/html": "\u003cdiv\u003e\n\u003cstyle scoped\u003e\n    .dataframe tbody tr th:only-of-type {\n        vertical-align: middle;\n    }\n\n    .dataframe tbody tr th {\n        vertical-align: top;\n    }\n\n    .dataframe thead th {\n        text-align: right;\n    }\n\u003c/style\u003e\n\u003ctable border\u003d\"1\" class\u003d\"dataframe\"\u003e\n  \u003cthead\u003e\n    \u003ctr style\u003d\"text-align: right;\"\u003e\n      \u003cth\u003eSymbols\u003c/th\u003e\n      \u003cth\u003eAMD\u003c/th\u003e\n      \u003cth\u003eCSCO\u003c/th\u003e\n      \u003cth\u003eINTC\u003c/th\u003e\n      \u003cth\u003eMU\u003c/th\u003e\n      \u003cth\u003eORCL\u003c/th\u003e\n      \u003cth\u003eQCOM\u003c/th\u003e\n    \u003c/tr\u003e\n  \u003c/thead\u003e\n  \u003ctbody\u003e\n    \u003ctr\u003e\n      \u003cth\u003ecount\u003c/th\u003e\n      \u003ctd\u003e377.000000\u003c/td\u003e\n      \u003ctd\u003e377.000000\u003c/td\u003e\n      \u003ctd\u003e377.000000\u003c/td\u003e\n      \u003ctd\u003e377.000000\u003c/td\u003e\n      \u003ctd\u003e377.000000\u003c/td\u003e\n      \u003ctd\u003e377.000000\u003c/td\u003e\n    \u003c/tr\u003e\n    \u003ctr\u003e\n      \u003cth\u003emean\u003c/th\u003e\n      \u003ctd\u003e0.002654\u003c/td\u003e\n      \u003ctd\u003e0.001453\u003c/td\u003e\n      \u003ctd\u003e0.001102\u003c/td\u003e\n      \u003ctd\u003e0.000476\u003c/td\u003e\n      \u003ctd\u003e0.000395\u003c/td\u003e\n      \u003ctd\u003e0.000272\u003c/td\u003e\n    \u003c/tr\u003e\n    \u003ctr\u003e\n      \u003cth\u003estd\u003c/th\u003e\n      \u003ctd\u003e0.039583\u003c/td\u003e\n      \u003ctd\u003e0.015026\u003c/td\u003e\n      \u003ctd\u003e0.019838\u003c/td\u003e\n      \u003ctd\u003e0.030250\u003c/td\u003e\n      \u003ctd\u003e0.014349\u003c/td\u003e\n      \u003ctd\u003e0.018691\u003c/td\u003e\n    \u003c/tr\u003e\n    \u003ctr\u003e\n      \u003cth\u003emin\u003c/th\u003e\n      \u003ctd\u003e-0.154454\u003c/td\u003e\n      \u003ctd\u003e-0.052529\u003c/td\u003e\n      \u003ctd\u003e-0.085890\u003c/td\u003e\n      \u003ctd\u003e-0.098708\u003c/td\u003e\n      \u003ctd\u003e-0.094321\u003c/td\u003e\n      \u003ctd\u003e-0.081633\u003c/td\u003e\n    \u003c/tr\u003e\n    \u003ctr\u003e\n      \u003cth\u003e25%\u003c/th\u003e\n      \u003ctd\u003e-0.016918\u003c/td\u003e\n      \u003ctd\u003e-0.005587\u003c/td\u003e\n      \u003ctd\u003e-0.008835\u003c/td\u003e\n      \u003ctd\u003e-0.016053\u003c/td\u003e\n      \u003ctd\u003e-0.005285\u003c/td\u003e\n      \u003ctd\u003e-0.008312\u003c/td\u003e\n    \u003c/tr\u003e\n    \u003ctr\u003e\n      \u003cth\u003e50%\u003c/th\u003e\n      \u003ctd\u003e0.002024\u003c/td\u003e\n      \u003ctd\u003e0.001663\u003c/td\u003e\n      \u003ctd\u003e0.000755\u003c/td\u003e\n      \u003ctd\u003e0.000892\u003c/td\u003e\n      \u003ctd\u003e0.001622\u003c/td\u003e\n      \u003ctd\u003e0.000609\u003c/td\u003e\n    \u003c/tr\u003e\n    \u003ctr\u003e\n      \u003cth\u003e75%\u003c/th\u003e\n      \u003ctd\u003e0.022670\u003c/td\u003e\n      \u003ctd\u003e0.008961\u003c/td\u003e\n      \u003ctd\u003e0.011899\u003c/td\u003e\n      \u003ctd\u003e0.018915\u003c/td\u003e\n      \u003ctd\u003e0.007929\u003c/td\u003e\n      \u003ctd\u003e0.009129\u003c/td\u003e\n    \u003c/tr\u003e\n    \u003ctr\u003e\n      \u003cth\u003emax\u003c/th\u003e\n      \u003ctd\u003e0.199481\u003c/td\u003e\n      \u003ctd\u003e0.055042\u003c/td\u003e\n      \u003ctd\u003e0.105519\u003c/td\u003e\n      \u003ctd\u003e0.113706\u003c/td\u003e\n      \u003ctd\u003e0.044507\u003c/td\u003e\n      \u003ctd\u003e0.127097\u003c/td\u003e\n    \u003c/tr\u003e\n  \u003c/tbody\u003e\n\u003c/table\u003e\n\u003c/div\u003e"
          },
          "metadata": {},
          "output_type": "execute_result",
          "execution_count": 8
        }
      ],
      "source": "tech_daily_return.describe()\n",
      "metadata": {
        "pycharm": {
          "metadata": false,
          "name": "#%%\n",
          "is_executing": false
        }
      }
    },
    {
      "cell_type": "markdown",
      "source": "### Plot Daily Return",
      "metadata": {
        "pycharm": {
          "metadata": false
        }
      }
    },
    {
      "cell_type": "code",
      "execution_count": null,
      "outputs": [],
      "source": "#  The Univariate Daily Return For Each Stock\ntech_daily_return.plot(legend\u003dTrue, title\u003d\u0027Daily Percentage Change\u0027, subplots\u003dTrue, figsize\u003d(18,10))\n",
      "metadata": {
        "pycharm": {
          "metadata": false,
          "name": "#%%\n"
        }
      }
    },
    {
      "cell_type": "markdown",
      "source": "### Test Correlation between Daily Percentage Change of each stock\n##### Correlation function for Pairplots",
      "metadata": {
        "pycharm": {
          "metadata": false
        }
      }
    },
    {
      "cell_type": "code",
      "execution_count": null,
      "outputs": [],
      "source": "def corrfunc(x, y, **kws):\n    r, _\u003d stats.pearsonr(x, y)\n    ax \u003d plt.gca()\n    ax.annotate(\"r \u003d {:.4f}\".format(r),\n\n                xy\u003d(.1, .9), xycoords\u003dax.transAxes)",
      "metadata": {
        "pycharm": {
          "metadata": false,
          "name": "#%%\n"
        }
      }
    },
    {
      "cell_type": "markdown",
      "source": "##### Pair plot \nThe diagonal shows the distribution of a single variable, the scatter plots\non the upper and lower triangles show the relationship between two variables. \n\nLinear regression models are fitted to the scatter plots.\n\nkernel density estimates are fitted to the univariate plots \n",
      "metadata": {
        "pycharm": {
          "metadata": false
        }
      }
    },
    {
      "cell_type": "code",
      "execution_count": null,
      "outputs": [],
      "source": "change_pairplot \u003d sns.PairGrid(tech_daily_return.dropna())\nchange_pairplot.map_upper(sns.regplot, fit_reg\u003dTrue, line_kws\u003d {\u0027color\u0027 : \u0027red\u0027})\nchange_pairplot.map_lower(sns.kdeplot, cmap\u003d\"Blues_d\")\nchange_pairplot.map_diag(sns.distplot)\nchange_pairplot.map_upper(corrfunc)\n",
      "metadata": {
        "pycharm": {
          "metadata": false,
          "name": "#%%\n"
        }
      }
    },
    {
      "cell_type": "markdown",
      "source": "##### Correlation Matrix of Daily Percentage Change",
      "metadata": {
        "pycharm": {
          "metadata": false
        }
      }
    },
    {
      "cell_type": "code",
      "execution_count": null,
      "outputs": [],
      "source": "# Correlation Matrix of Daily Returns\ndaily_returns_corr \u003d tech_daily_return.corr()\ndaily_returns_corr.style.background_gradient(cmap\u003d\u0027coolwarm\u0027).set_precision(3)",
      "metadata": {
        "pycharm": {
          "metadata": false,
          "name": "#%%\n"
        }
      }
    },
    {
      "cell_type": "markdown",
      "source": "##### Cluster Map of Daily Percentage Change  ",
      "metadata": {
        "pycharm": {
          "metadata": false
        }
      }
    },
    {
      "cell_type": "code",
      "execution_count": null,
      "outputs": [],
      "source": "#  Each row is normalized for it\u0027s daily return with a z-score\n#  The values are measured by correlation\n#  Dendrogram displays the results of the cluster analysis\ngraph_returns \u003d sns.clustermap(tech_daily_return.dropna(), metric\u003d\"correlation\", method\u003d\u0027single\u0027, \n                                z_score\u003d0, row_cluster\u003dFalse,\n                                cmap\u003d\u0027coolwarm\u0027,\n                                yticklabels\u003dFalse, figsize\u003d(8,14))",
      "metadata": {
        "pycharm": {
          "metadata": false,
          "name": "#%%\n"
        }
      }
    },
    {
      "cell_type": "markdown",
      "source": "##### Cluster Map of Monthly Percentage Change\nConvert Data into months",
      "metadata": {
        "pycharm": {
          "metadata": false
        }
      }
    },
    {
      "cell_type": "code",
      "execution_count": null,
      "outputs": [],
      "source": "tech_month_change \u003d tech_daily_return\n#tech_month_change.set_index(\u0027Date\u0027, inplace\u003dTrue)\ntech_month_change.index \u003d pd.to_datetime(tech_month_change.index)\ntech_month_change \u003d tech_month_change.resample(\u0027M\u0027).last()",
      "metadata": {
        "pycharm": {
          "metadata": false,
          "name": "#%%\n"
        }
      }
    },
    {
      "cell_type": "markdown",
      "source": "Display cluster map ",
      "metadata": {
        "pycharm": {
          "metadata": false
        }
      }
    },
    {
      "cell_type": "code",
      "execution_count": null,
      "outputs": [],
      "source": "#  Each row is normalized for it\u0027s daily return with a z-score\n#  The values are measured by correlation\n#  Dendrogram displays the results of the cluster analysis\ngraph_returns_month \u003d sns.clustermap(tech_month_change.dropna(), metric\u003d\"correlation\", method\u003d\u0027single\u0027, \n                                z_score\u003d0, col_cluster\u003dTrue,\n                                cmap\u003d\u0027coolwarm\u0027,\n                               figsize\u003d(8,14))",
      "metadata": {
        "pycharm": {
          "metadata": false,
          "name": "#%%\n"
        }
      }
    },
    {
      "cell_type": "markdown",
      "source": "## Daily Cumulative Return\n-------",
      "metadata": {
        "pycharm": {
          "metadata": false
        }
      }
    },
    {
      "cell_type": "code",
      "execution_count": null,
      "outputs": [],
      "source": "tech_cum_daily_return \u003d (1 + tech_daily_return).cumprod()",
      "metadata": {
        "pycharm": {
          "metadata": false,
          "name": "#%%\n"
        }
      }
    },
    {
      "cell_type": "markdown",
      "source": "##### Total Cumulative Stock Return",
      "metadata": {
        "pycharm": {
          "metadata": false
        }
      }
    },
    {
      "cell_type": "code",
      "execution_count": null,
      "outputs": [],
      "source": "tech_cum_daily_return.tail(1) ",
      "metadata": {
        "pycharm": {
          "metadata": false,
          "name": "#%%\n"
        }
      }
    },
    {
      "cell_type": "markdown",
      "source": "### Summary of Daily Cumulative Returns",
      "metadata": {
        "pycharm": {
          "metadata": false
        }
      }
    },
    {
      "cell_type": "code",
      "execution_count": null,
      "outputs": [],
      "source": "tech_cum_daily_return.describe()",
      "metadata": {
        "pycharm": {
          "metadata": false,
          "name": "#%%\n"
        }
      }
    },
    {
      "cell_type": "markdown",
      "source": "### Visualizing Daily Cumulative Return\nThe Univariate Daily Cumulative Return",
      "metadata": {
        "pycharm": {
          "metadata": false
        }
      }
    },
    {
      "cell_type": "code",
      "execution_count": null,
      "outputs": [],
      "source": "tech_cum_daily_return.plot(legend\u003dTrue, title\u003d\u0027Daily Cumulative Return\u0027, figsize\u003d(10,12))\n",
      "metadata": {
        "pycharm": {
          "metadata": false,
          "name": "#%%\n"
        }
      }
    },
    {
      "cell_type": "markdown",
      "source": "### Test Correlation between the Daily Cumulative Return of each stock",
      "metadata": {
        "pycharm": {
          "metadata": false
        }
      }
    },
    {
      "cell_type": "markdown",
      "source": "##### Pair plot \nThe diagonal shows the distribution of a single variable, the scatter plots\non the upper and lower triangles show the relationship between two variables. \n\nLinear regression models are fitted to the scatter plots.\n\nkernel density estimates are fitted to the univariate plots \n",
      "metadata": {
        "pycharm": {
          "metadata": false
        }
      }
    },
    {
      "cell_type": "code",
      "execution_count": null,
      "outputs": [],
      "source": "cum_returns_pairplot \u003d sns.PairGrid(tech_cum_daily_return.dropna())\ncum_returns_pairplot.map_upper(sns.regplot, fit_reg\u003dTrue, line_kws\u003d {\u0027color\u0027 : \u0027red\u0027})\ncum_returns_pairplot.map_lower(sns.kdeplot, cmap\u003d\"Blues_d\")\ncum_returns_pairplot.map_diag(sns.distplot)\ncum_returns_pairplot.map_upper(corrfunc)\n",
      "metadata": {
        "pycharm": {
          "metadata": false,
          "name": "#%%\n"
        }
      }
    },
    {
      "cell_type": "markdown",
      "source": "##### Correlation Matrix of Cumulative Daily Returns",
      "metadata": {
        "pycharm": {
          "metadata": false
        }
      }
    },
    {
      "cell_type": "code",
      "execution_count": null,
      "outputs": [],
      "source": "# Correlation Matrix of Daily Returns\ncumu_returns_corr \u003d tech_cum_daily_return.dropna().corr()\ncumu_returns_corr.style.background_gradient(cmap\u003d\u0027coolwarm\u0027).set_precision(3)",
      "metadata": {
        "pycharm": {
          "metadata": false,
          "name": "#%%\n"
        }
      }
    },
    {
      "cell_type": "markdown",
      "source": "##### Cluster Map of Cumulative Daily Returns  ",
      "metadata": {
        "pycharm": {
          "metadata": false
        }
      }
    },
    {
      "cell_type": "code",
      "execution_count": null,
      "outputs": [],
      "source": "#  Each row is normalized for it\u0027s daily return with a z-score\n#  The values are measured by correlation\n#  Dendrogram displays the results of the cluster analysis\ngraph_cum_returns \u003d sns.clustermap(tech_cum_daily_return.dropna(), metric\u003d\"correlation\", method\u003d\u0027single\u0027, \n                                z_score\u003d0, row_cluster\u003dFalse,\n                                cmap\u003d\u0027coolwarm\u0027,\n                                yticklabels\u003dFalse, figsize\u003d(8,14))",
      "metadata": {
        "pycharm": {
          "metadata": false,
          "name": "#%%\n"
        }
      }
    },
    {
      "cell_type": "markdown",
      "source": "## Quantify Risk of Stock\u0027s Daily Return\n-------\nQuantify risk by comparing expected return with the standard deviation of returns",
      "metadata": {
        "pycharm": {
          "metadata": false
        }
      }
    },
    {
      "cell_type": "code",
      "execution_count": null,
      "outputs": [],
      "source": "tech_daily_return.dropna()\nquantify_risk \u003d pd.DataFrame()\nquantify_risk[\u0027Expected Return\u0027] \u003d tech_daily_return.mean()\nquantify_risk[\u0027Risk\u0027] \u003d tech_daily_return.std()\nquantify_risk",
      "metadata": {
        "pycharm": {
          "metadata": false,
          "name": "#%%\n"
        }
      }
    },
    {
      "cell_type": "code",
      "execution_count": null,
      "outputs": [],
      "source": "sns.set_style(\"darkgrid\")\nsns.scatterplot(x\u003d\u0027Expected Return\u0027, y\u003d\u0027Risk\u0027, data\u003dquantify_risk, \n                hue\u003dticker_index_data,\n                legend\u003d\u0027full\u0027,\n                size\u003dticker_index_data,\n                sizes\u003d(70,70))",
      "metadata": {
        "pycharm": {
          "metadata": false,
          "name": "#%%\n"
        }
      }
    },
    {
      "cell_type": "markdown",
      "source": "## Test Correlation Between Trading Volume (log scaled) of each stock",
      "metadata": {
        "pycharm": {
          "metadata": false
        }
      }
    },
    {
      "cell_type": "code",
      "execution_count": null,
      "outputs": [],
      "source": "#  Get the log scaled trading volume data\nlog_volume \u003d data.DataReader(ticker_index_data, \u0027yahoo\u0027, start, end)[\u0027Volume\u0027]\nlog_volume \u003d np.log(log_volume)",
      "metadata": {
        "pycharm": {
          "metadata": false,
          "name": "#%%\n"
        }
      }
    },
    {
      "cell_type": "markdown",
      "source": "##### Pairplot",
      "metadata": {
        "pycharm": {
          "metadata": false
        }
      }
    },
    {
      "cell_type": "code",
      "execution_count": null,
      "outputs": [],
      "source": "trade_volume_pairplot \u003d sns.PairGrid(log_volume.dropna())\ntrade_volume_pairplot.map_upper(sns.regplot, fit_reg\u003dTrue, line_kws\u003d {\u0027color\u0027 : \u0027red\u0027})\ntrade_volume_pairplot.map_lower(sns.kdeplot, cmap\u003d\"Blues_d\")\ntrade_volume_pairplot.map_diag(sns.distplot)\ntrade_volume_pairplot.map_upper(corrfunc)",
      "metadata": {
        "pycharm": {
          "metadata": false,
          "name": "#%%\n"
        }
      }
    },
    {
      "cell_type": "markdown",
      "source": "##### Correlation Matrix of Trading Volume",
      "metadata": {
        "pycharm": {
          "metadata": false
        }
      }
    },
    {
      "cell_type": "code",
      "execution_count": null,
      "outputs": [],
      "source": "#  Trading Volume Correlation matrix\ntrading_volume_corr \u003d log_volume.corr()\ntrading_volume_corr.style.background_gradient(cmap\u003d\u0027coolwarm\u0027).set_precision(3)",
      "metadata": {
        "pycharm": {
          "metadata": false,
          "name": "#%%\n"
        }
      }
    },
    {
      "cell_type": "markdown",
      "source": "###### Cluster Map of Trading Volume ",
      "metadata": {
        "pycharm": {
          "metadata": false
        }
      }
    },
    {
      "cell_type": "code",
      "execution_count": null,
      "outputs": [],
      "source": "#  Each row is normalized for it\u0027s daily return with a z-score\n#  The values are measured by correlation\n#  Dendrogram displays the results of the cluster analysis\ngraph_volume \u003d sns.clustermap(log_volume.dropna(), metric\u003d\"correlation\", method\u003d\u0027single\u0027, \n                       z_score\u003d0, row_cluster\u003dFalse, \n                        cmap\u003d\u0027coolwarm\u0027,\n                        yticklabels\u003dFalse, figsize\u003d(8,14))\n",
      "metadata": {
        "pycharm": {
          "metadata": false,
          "name": "#%%\n"
        }
      }
    }
  ],
  "metadata": {
    "language_info": {
      "codemirror_mode": {
        "name": "ipython",
        "version": 2
      },
      "file_extension": ".py",
      "mimetype": "text/x-python",
      "name": "python",
      "nbconvert_exporter": "python",
      "pygments_lexer": "ipython2",
      "version": "2.7.6"
    },
    "kernelspec": {
      "name": "python3",
      "language": "python",
      "display_name": "Python 3"
    },
    "stem_cell": {
      "cell_type": "raw",
      "source": "",
      "metadata": {
        "pycharm": {
          "metadata": false
        }
      }
    }
  },
  "nbformat": 4,
  "nbformat_minor": 0
}